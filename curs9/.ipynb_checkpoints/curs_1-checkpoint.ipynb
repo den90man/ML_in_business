{
 "cells": [
  {
   "cell_type": "code",
   "execution_count": 1,
   "metadata": {
    "id": "KLvQLw8KGrtP"
   },
   "outputs": [],
   "source": [
    "import pandas as pd\n",
    "import dill\n",
    "import numpy as np\n",
    "from sklearn.model_selection import train_test_split\n",
    "from sklearn.base import BaseEstimator, TransformerMixin\n",
    "from sklearn.linear_model import LogisticRegression\n",
    "from sklearn.metrics import confusion_matrix, accuracy_score, classification_report\n",
    "from sklearn.metrics import roc_auc_score, roc_curve, precision_recall_curve\n",
    "from sklearn.metrics import f1_score\n",
    "\n",
    "#working with text\n",
    "from sklearn.feature_extraction.text import TfidfVectorizer\n",
    "\n",
    "#normalizing data\n",
    "from sklearn.preprocessing import StandardScaler\n",
    "\n",
    "#pipeline\n",
    "from sklearn.pipeline import Pipeline, FeatureUnion\n",
    "from sklearn.metrics import precision_score,recall_score\n",
    "\n",
    "#imputer\n",
    "from sklearn.impute import SimpleImputer\n",
    "\n",
    "import sklearn.datasets\n",
    "\n",
    "import sklearn.datasets\n",
    "import seaborn as sns\n",
    "import matplotlib.pyplot as plt"
   ]
  },
  {
   "cell_type": "markdown",
   "metadata": {
    "id": "OTBkHNk0GrtV"
   },
   "source": [
    "Загрузим данные из https://www.kaggle.com/datasets/sameepvani/nasa-nearest-earth-objects/code?select=neo.csv\n"
   ]
  },
  {
   "cell_type": "code",
   "execution_count": 2,
   "metadata": {
    "colab": {
     "base_uri": "https://localhost:8080/",
     "height": 416
    },
    "id": "Uv4ago4BGrtY",
    "outputId": "b6e0336c-9c70-488d-af42-7f01c515ab48"
   },
   "outputs": [
    {
     "data": {
      "text/html": [
       "<div>\n",
       "<style scoped>\n",
       "    .dataframe tbody tr th:only-of-type {\n",
       "        vertical-align: middle;\n",
       "    }\n",
       "\n",
       "    .dataframe tbody tr th {\n",
       "        vertical-align: top;\n",
       "    }\n",
       "\n",
       "    .dataframe thead th {\n",
       "        text-align: right;\n",
       "    }\n",
       "</style>\n",
       "<table border=\"1\" class=\"dataframe\">\n",
       "  <thead>\n",
       "    <tr style=\"text-align: right;\">\n",
       "      <th></th>\n",
       "      <th>id</th>\n",
       "      <th>name</th>\n",
       "      <th>est_diameter_min</th>\n",
       "      <th>est_diameter_max</th>\n",
       "      <th>relative_velocity</th>\n",
       "      <th>miss_distance</th>\n",
       "      <th>orbiting_body</th>\n",
       "      <th>sentry_object</th>\n",
       "      <th>absolute_magnitude</th>\n",
       "      <th>hazardous</th>\n",
       "    </tr>\n",
       "  </thead>\n",
       "  <tbody>\n",
       "    <tr>\n",
       "      <th>0</th>\n",
       "      <td>2162635</td>\n",
       "      <td>162635 (2000 SS164)</td>\n",
       "      <td>1.198271</td>\n",
       "      <td>2.679415</td>\n",
       "      <td>13569.249224</td>\n",
       "      <td>5.483974e+07</td>\n",
       "      <td>Earth</td>\n",
       "      <td>False</td>\n",
       "      <td>16.73</td>\n",
       "      <td>False</td>\n",
       "    </tr>\n",
       "    <tr>\n",
       "      <th>1</th>\n",
       "      <td>2277475</td>\n",
       "      <td>277475 (2005 WK4)</td>\n",
       "      <td>0.265800</td>\n",
       "      <td>0.594347</td>\n",
       "      <td>73588.726663</td>\n",
       "      <td>6.143813e+07</td>\n",
       "      <td>Earth</td>\n",
       "      <td>False</td>\n",
       "      <td>20.00</td>\n",
       "      <td>True</td>\n",
       "    </tr>\n",
       "    <tr>\n",
       "      <th>2</th>\n",
       "      <td>2512244</td>\n",
       "      <td>512244 (2015 YE18)</td>\n",
       "      <td>0.722030</td>\n",
       "      <td>1.614507</td>\n",
       "      <td>114258.692129</td>\n",
       "      <td>4.979872e+07</td>\n",
       "      <td>Earth</td>\n",
       "      <td>False</td>\n",
       "      <td>17.83</td>\n",
       "      <td>False</td>\n",
       "    </tr>\n",
       "  </tbody>\n",
       "</table>\n",
       "</div>"
      ],
      "text/plain": [
       "        id                 name  est_diameter_min  est_diameter_max  \\\n",
       "0  2162635  162635 (2000 SS164)          1.198271          2.679415   \n",
       "1  2277475    277475 (2005 WK4)          0.265800          0.594347   \n",
       "2  2512244   512244 (2015 YE18)          0.722030          1.614507   \n",
       "\n",
       "   relative_velocity  miss_distance orbiting_body  sentry_object  \\\n",
       "0       13569.249224   5.483974e+07         Earth          False   \n",
       "1       73588.726663   6.143813e+07         Earth          False   \n",
       "2      114258.692129   4.979872e+07         Earth          False   \n",
       "\n",
       "   absolute_magnitude  hazardous  \n",
       "0               16.73      False  \n",
       "1               20.00       True  \n",
       "2               17.83      False  "
      ]
     },
     "execution_count": 2,
     "metadata": {},
     "output_type": "execute_result"
    }
   ],
   "source": [
    "df = pd.read_csv(\"neo.csv\")\n",
    "df.head(3)"
   ]
  },
  {
   "cell_type": "code",
   "execution_count": 3,
   "metadata": {
    "colab": {
     "base_uri": "https://localhost:8080/"
    },
    "id": "seckhpIi6pT7",
    "outputId": "827fd0a6-6a6c-42e8-8c5a-97380de0fa43"
   },
   "outputs": [
    {
     "data": {
      "text/plain": [
       "False    81996\n",
       "True      8840\n",
       "Name: hazardous, dtype: int64"
      ]
     },
     "execution_count": 3,
     "metadata": {},
     "output_type": "execute_result"
    }
   ],
   "source": [
    "df['hazardous'].value_counts()"
   ]
  },
  {
   "cell_type": "code",
   "execution_count": null,
   "metadata": {},
   "outputs": [],
   "source": []
  },
  {
   "cell_type": "code",
   "execution_count": 4,
   "metadata": {},
   "outputs": [],
   "source": [
    "features = [\"name\",\"est_diameter_min\" , \"est_diameter_max\", \"relative_velocity\", \"miss_distance\", \"orbiting_body\",\"sentry_object\",\"absolute_magnitude\"]\n",
    "target = \"hazardous\""
   ]
  },
  {
   "cell_type": "markdown",
   "metadata": {
    "id": "yrlbd6KzGrtb"
   },
   "source": [
    "Разделим данные на train/test и сохраним тестовую выборку на диск"
   ]
  },
  {
   "cell_type": "code",
   "execution_count": 5,
   "metadata": {
    "id": "re8x7JVAGrtc"
   },
   "outputs": [],
   "source": [
    "X_train, X_test, y_train, y_test = train_test_split(df[features], df[target],\n",
    "                                                    test_size=0.33, random_state=42)\n",
    "# save test\n",
    "X_test.to_csv(\"X_test.csv\", index=None)\n",
    "y_test.to_csv(\"y_test.csv\", index=None)\n",
    "\n",
    "# save train\n",
    "X_train.to_csv(\"X_train.csv\", index=None)\n",
    "y_train.to_csv(\"y_train.csv\", index=None)"
   ]
  },
  {
   "cell_type": "markdown",
   "metadata": {},
   "source": [
    "Допонительно разделяю на валидационный тест"
   ]
  },
  {
   "cell_type": "code",
   "execution_count": 6,
   "metadata": {},
   "outputs": [],
   "source": [
    "X_train, X_val, y_train, y_val = train_test_split(X_train, y_train,  test_size=0.33, random_state=2,)"
   ]
  },
  {
   "cell_type": "markdown",
   "metadata": {},
   "source": [
    "Работа с данными FE"
   ]
  },
  {
   "cell_type": "code",
   "execution_count": 7,
   "metadata": {},
   "outputs": [
    {
     "data": {
      "text/html": [
       "<div>\n",
       "<style scoped>\n",
       "    .dataframe tbody tr th:only-of-type {\n",
       "        vertical-align: middle;\n",
       "    }\n",
       "\n",
       "    .dataframe tbody tr th {\n",
       "        vertical-align: top;\n",
       "    }\n",
       "\n",
       "    .dataframe thead th {\n",
       "        text-align: right;\n",
       "    }\n",
       "</style>\n",
       "<table border=\"1\" class=\"dataframe\">\n",
       "  <thead>\n",
       "    <tr style=\"text-align: right;\">\n",
       "      <th></th>\n",
       "      <th>name</th>\n",
       "      <th>est_diameter_min</th>\n",
       "      <th>est_diameter_max</th>\n",
       "      <th>relative_velocity</th>\n",
       "      <th>miss_distance</th>\n",
       "      <th>orbiting_body</th>\n",
       "      <th>sentry_object</th>\n",
       "      <th>absolute_magnitude</th>\n",
       "    </tr>\n",
       "  </thead>\n",
       "  <tbody>\n",
       "    <tr>\n",
       "      <th>20406</th>\n",
       "      <td>(2019 YT1)</td>\n",
       "      <td>0.024241</td>\n",
       "      <td>0.054205</td>\n",
       "      <td>22148.962596</td>\n",
       "      <td>5.028574e+07</td>\n",
       "      <td>Earth</td>\n",
       "      <td>False</td>\n",
       "      <td>25.20</td>\n",
       "    </tr>\n",
       "    <tr>\n",
       "      <th>74443</th>\n",
       "      <td>(2019 US)</td>\n",
       "      <td>0.012722</td>\n",
       "      <td>0.028447</td>\n",
       "      <td>26477.211836</td>\n",
       "      <td>1.683201e+06</td>\n",
       "      <td>Earth</td>\n",
       "      <td>False</td>\n",
       "      <td>26.60</td>\n",
       "    </tr>\n",
       "    <tr>\n",
       "      <th>74306</th>\n",
       "      <td>(2019 UU)</td>\n",
       "      <td>0.013322</td>\n",
       "      <td>0.029788</td>\n",
       "      <td>33770.201397</td>\n",
       "      <td>3.943220e+06</td>\n",
       "      <td>Earth</td>\n",
       "      <td>False</td>\n",
       "      <td>26.50</td>\n",
       "    </tr>\n",
       "    <tr>\n",
       "      <th>45943</th>\n",
       "      <td>481965 (2009 EB1)</td>\n",
       "      <td>0.193444</td>\n",
       "      <td>0.432554</td>\n",
       "      <td>43599.575296</td>\n",
       "      <td>7.346837e+07</td>\n",
       "      <td>Earth</td>\n",
       "      <td>False</td>\n",
       "      <td>20.69</td>\n",
       "    </tr>\n",
       "    <tr>\n",
       "      <th>62859</th>\n",
       "      <td>(2017 WJ1)</td>\n",
       "      <td>0.044112</td>\n",
       "      <td>0.098637</td>\n",
       "      <td>36398.080883</td>\n",
       "      <td>6.352916e+07</td>\n",
       "      <td>Earth</td>\n",
       "      <td>False</td>\n",
       "      <td>23.90</td>\n",
       "    </tr>\n",
       "    <tr>\n",
       "      <th>...</th>\n",
       "      <td>...</td>\n",
       "      <td>...</td>\n",
       "      <td>...</td>\n",
       "      <td>...</td>\n",
       "      <td>...</td>\n",
       "      <td>...</td>\n",
       "      <td>...</td>\n",
       "      <td>...</td>\n",
       "    </tr>\n",
       "    <tr>\n",
       "      <th>2688</th>\n",
       "      <td>(2021 XF)</td>\n",
       "      <td>0.005683</td>\n",
       "      <td>0.012707</td>\n",
       "      <td>26239.228447</td>\n",
       "      <td>4.421079e+06</td>\n",
       "      <td>Earth</td>\n",
       "      <td>False</td>\n",
       "      <td>28.35</td>\n",
       "    </tr>\n",
       "    <tr>\n",
       "      <th>26667</th>\n",
       "      <td>(2009 ED1)</td>\n",
       "      <td>0.305179</td>\n",
       "      <td>0.682402</td>\n",
       "      <td>62096.828125</td>\n",
       "      <td>4.739770e+07</td>\n",
       "      <td>Earth</td>\n",
       "      <td>False</td>\n",
       "      <td>19.70</td>\n",
       "    </tr>\n",
       "    <tr>\n",
       "      <th>29848</th>\n",
       "      <td>(2015 AR45)</td>\n",
       "      <td>0.291444</td>\n",
       "      <td>0.651688</td>\n",
       "      <td>123914.408159</td>\n",
       "      <td>5.222709e+07</td>\n",
       "      <td>Earth</td>\n",
       "      <td>False</td>\n",
       "      <td>19.80</td>\n",
       "    </tr>\n",
       "    <tr>\n",
       "      <th>197</th>\n",
       "      <td>(2002 AK14)</td>\n",
       "      <td>0.133216</td>\n",
       "      <td>0.297879</td>\n",
       "      <td>34803.019965</td>\n",
       "      <td>3.220422e+07</td>\n",
       "      <td>Earth</td>\n",
       "      <td>False</td>\n",
       "      <td>21.50</td>\n",
       "    </tr>\n",
       "    <tr>\n",
       "      <th>11299</th>\n",
       "      <td>(2021 TH1)</td>\n",
       "      <td>0.006677</td>\n",
       "      <td>0.014929</td>\n",
       "      <td>25526.452716</td>\n",
       "      <td>1.352930e+06</td>\n",
       "      <td>Earth</td>\n",
       "      <td>False</td>\n",
       "      <td>28.00</td>\n",
       "    </tr>\n",
       "  </tbody>\n",
       "</table>\n",
       "<p>29976 rows × 8 columns</p>\n",
       "</div>"
      ],
      "text/plain": [
       "                    name  est_diameter_min  est_diameter_max  \\\n",
       "20406         (2019 YT1)          0.024241          0.054205   \n",
       "74443          (2019 US)          0.012722          0.028447   \n",
       "74306          (2019 UU)          0.013322          0.029788   \n",
       "45943  481965 (2009 EB1)          0.193444          0.432554   \n",
       "62859         (2017 WJ1)          0.044112          0.098637   \n",
       "...                  ...               ...               ...   \n",
       "2688           (2021 XF)          0.005683          0.012707   \n",
       "26667         (2009 ED1)          0.305179          0.682402   \n",
       "29848        (2015 AR45)          0.291444          0.651688   \n",
       "197          (2002 AK14)          0.133216          0.297879   \n",
       "11299         (2021 TH1)          0.006677          0.014929   \n",
       "\n",
       "       relative_velocity  miss_distance orbiting_body  sentry_object  \\\n",
       "20406       22148.962596   5.028574e+07         Earth          False   \n",
       "74443       26477.211836   1.683201e+06         Earth          False   \n",
       "74306       33770.201397   3.943220e+06         Earth          False   \n",
       "45943       43599.575296   7.346837e+07         Earth          False   \n",
       "62859       36398.080883   6.352916e+07         Earth          False   \n",
       "...                  ...            ...           ...            ...   \n",
       "2688        26239.228447   4.421079e+06         Earth          False   \n",
       "26667       62096.828125   4.739770e+07         Earth          False   \n",
       "29848      123914.408159   5.222709e+07         Earth          False   \n",
       "197         34803.019965   3.220422e+07         Earth          False   \n",
       "11299       25526.452716   1.352930e+06         Earth          False   \n",
       "\n",
       "       absolute_magnitude  \n",
       "20406               25.20  \n",
       "74443               26.60  \n",
       "74306               26.50  \n",
       "45943               20.69  \n",
       "62859               23.90  \n",
       "...                   ...  \n",
       "2688                28.35  \n",
       "26667               19.70  \n",
       "29848               19.80  \n",
       "197                 21.50  \n",
       "11299               28.00  \n",
       "\n",
       "[29976 rows x 8 columns]"
      ]
     },
     "execution_count": 7,
     "metadata": {},
     "output_type": "execute_result"
    }
   ],
   "source": [
    "X_test"
   ]
  },
  {
   "cell_type": "markdown",
   "metadata": {},
   "source": [
    "Отслеживаем выбросы данных"
   ]
  },
  {
   "cell_type": "code",
   "execution_count": 8,
   "metadata": {},
   "outputs": [
    {
     "data": {
      "image/png": "[encoded data removed]",
      "text/plain": [
       "<Figure size 432x288 with 1 Axes>"
      ]
     },
     "metadata": {
      "needs_background": "light"
     },
     "output_type": "display_data"
    }
   ],
   "source": [
    "plt.scatter(X_train['est_diameter_max'], X_train['est_diameter_max']);"
   ]
  },
  {
   "cell_type": "code",
   "execution_count": 9,
   "metadata": {},
   "outputs": [
    {
     "data": {
      "image/png": "[encoded data removed]",
      "text/plain": [
       "<Figure size 432x288 with 1 Axes>"
      ]
     },
     "metadata": {
      "needs_background": "light"
     },
     "output_type": "display_data"
    }
   ],
   "source": [
    "plt.scatter(X_train['est_diameter_max'], y_train);"
   ]
  },
  {
   "cell_type": "code",
   "execution_count": 10,
   "metadata": {},
   "outputs": [
    {
     "data": {
      "image/png": "[encoded data removed]",
      "text/plain": [
       "<Figure size 432x288 with 1 Axes>"
      ]
     },
     "metadata": {
      "needs_background": "light"
     },
     "output_type": "display_data"
    }
   ],
   "source": [
    "plt.scatter(X_train['est_diameter_min'], y_train);"
   ]
  },
  {
   "cell_type": "code",
   "execution_count": 11,
   "metadata": {},
   "outputs": [
    {
     "data": {
      "image/png": "[encoded data removed]",
      "text/plain": [
       "<Figure size 432x288 with 1 Axes>"
      ]
     },
     "metadata": {
      "needs_background": "light"
     },
     "output_type": "display_data"
    }
   ],
   "source": [
    "plt.scatter(X_train['est_diameter_min'], X_train['est_diameter_min']);"
   ]
  },
  {
   "cell_type": "markdown",
   "metadata": {},
   "source": [
    "Заменим выбросы на среднее "
   ]
  },
  {
   "cell_type": "code",
   "execution_count": 12,
   "metadata": {},
   "outputs": [
    {
     "data": {
      "text/plain": [
       "0.28419260047473927"
      ]
     },
     "execution_count": 12,
     "metadata": {},
     "output_type": "execute_result"
    }
   ],
   "source": [
    "X_train['est_diameter_max'].mean()"
   ]
  },
  {
   "cell_type": "code",
   "execution_count": 13,
   "metadata": {},
   "outputs": [],
   "source": [
    "X_train.loc[(X_train['est_diameter_max'] > 15, 'est_diameter_max')] = X_train['est_diameter_max'].mean()\n",
    "X_train.loc[(X_train['est_diameter_min'] > 5), 'est_diameter_min'] = X_train['est_diameter_min'].mean()"
   ]
  },
  {
   "cell_type": "code",
   "execution_count": 14,
   "metadata": {},
   "outputs": [
    {
     "data": {
      "image/png": "[encoded data removed]",
      "text/plain": [
       "<Figure size 1008x1008 with 6 Axes>"
      ]
     },
     "metadata": {
      "needs_background": "light"
     },
     "output_type": "display_data"
    }
   ],
   "source": [
    "X_train.hist(figsize=(14,14), bins=20, grid=True);"
   ]
  },
  {
   "cell_type": "code",
   "execution_count": 15,
   "metadata": {},
   "outputs": [],
   "source": [
    "from scipy import stats"
   ]
  },
  {
   "cell_type": "code",
   "execution_count": 16,
   "metadata": {},
   "outputs": [],
   "source": [
    "#!!!!!"
   ]
  },
  {
   "cell_type": "markdown",
   "metadata": {},
   "source": [
    "Разбиваем на интервалы"
   ]
  },
  {
   "cell_type": "code",
   "execution_count": 17,
   "metadata": {},
   "outputs": [],
   "source": [
    "from sklearn.preprocessing import KBinsDiscretizer"
   ]
  },
  {
   "cell_type": "code",
   "execution_count": 18,
   "metadata": {},
   "outputs": [
    {
     "data": {
      "image/png": "[encoded data removed]",
      "text/plain": [
       "<Figure size 432x288 with 2 Axes>"
      ]
     },
     "metadata": {
      "needs_background": "light"
     },
     "output_type": "display_data"
    }
   ],
   "source": [
    "x_new =X_train['miss_distance']= KBinsDiscretizer(n_bins=5, encode='ordinal').fit_transform(X_train['miss_distance'].values.reshape(-1,1))\n",
    "plt.subplot(1,2,1)\n",
    "plt.hist(X_train['miss_distance'])\n",
    "plt.subplot(1,2,2)\n",
    "plt.hist(x_new, bins = 5)\n",
    "plt.show()"
   ]
  },
  {
   "cell_type": "code",
   "execution_count": 19,
   "metadata": {},
   "outputs": [],
   "source": [
    "# d = np.floor_divide( X_train['miss_distance'], 10)\n",
    "# plt.subplot(1,2,1)\n",
    "# plt.hist(X_train['miss_distance'])\n",
    "# plt.subplot(1,2,2)\n",
    "# plt.hist(d)\n",
    "# plt.show()"
   ]
  },
  {
   "cell_type": "markdown",
   "metadata": {},
   "source": [
    "Строим квантили"
   ]
  },
  {
   "cell_type": "code",
   "execution_count": 20,
   "metadata": {},
   "outputs": [],
   "source": [
    "# X_train['miss_distance'].quantile([0.25, 0.5, 0.75])"
   ]
  },
  {
   "cell_type": "code",
   "execution_count": 21,
   "metadata": {},
   "outputs": [],
   "source": [
    "# d4 = X_train['miss_distance'] = pd.qcut(X_train['miss_distance'], 4, labels=False)\n",
    "# plt.subplot(1,2,1)\n",
    "# plt.hist(X_train['miss_distance'])\n",
    "# plt.subplot(1,2,2)\n",
    "# plt.hist(d4,bins=4)\n",
    "# plt.show()"
   ]
  },
  {
   "cell_type": "markdown",
   "metadata": {},
   "source": [
    "Построение новых признаков "
   ]
  },
  {
   "cell_type": "code",
   "execution_count": 22,
   "metadata": {},
   "outputs": [],
   "source": [
    "X_train['qoefBody'] = X_train['absolute_magnitude'] / X_train['miss_distance']"
   ]
  },
  {
   "cell_type": "code",
   "execution_count": 23,
   "metadata": {},
   "outputs": [],
   "source": [
    "#!!!!!"
   ]
  },
  {
   "cell_type": "code",
   "execution_count": 24,
   "metadata": {},
   "outputs": [
    {
     "data": {
      "text/html": [
       "<div>\n",
       "<style scoped>\n",
       "    .dataframe tbody tr th:only-of-type {\n",
       "        vertical-align: middle;\n",
       "    }\n",
       "\n",
       "    .dataframe tbody tr th {\n",
       "        vertical-align: top;\n",
       "    }\n",
       "\n",
       "    .dataframe thead th {\n",
       "        text-align: right;\n",
       "    }\n",
       "</style>\n",
       "<table border=\"1\" class=\"dataframe\">\n",
       "  <thead>\n",
       "    <tr style=\"text-align: right;\">\n",
       "      <th></th>\n",
       "      <th>name</th>\n",
       "      <th>est_diameter_min</th>\n",
       "      <th>est_diameter_max</th>\n",
       "      <th>relative_velocity</th>\n",
       "      <th>miss_distance</th>\n",
       "      <th>orbiting_body</th>\n",
       "      <th>sentry_object</th>\n",
       "      <th>absolute_magnitude</th>\n",
       "    </tr>\n",
       "  </thead>\n",
       "  <tbody>\n",
       "    <tr>\n",
       "      <th>26583</th>\n",
       "      <td>(2007 DM8)</td>\n",
       "      <td>0.015295</td>\n",
       "      <td>0.034201</td>\n",
       "      <td>28583.976710</td>\n",
       "      <td>2.0</td>\n",
       "      <td>Earth</td>\n",
       "      <td>False</td>\n",
       "      <td>26.20</td>\n",
       "    </tr>\n",
       "    <tr>\n",
       "      <th>1150</th>\n",
       "      <td>(2011 KE3)</td>\n",
       "      <td>0.044112</td>\n",
       "      <td>0.098637</td>\n",
       "      <td>18713.420891</td>\n",
       "      <td>2.0</td>\n",
       "      <td>Earth</td>\n",
       "      <td>False</td>\n",
       "      <td>23.90</td>\n",
       "    </tr>\n",
       "    <tr>\n",
       "      <th>90524</th>\n",
       "      <td>(2016 KL)</td>\n",
       "      <td>0.018389</td>\n",
       "      <td>0.041119</td>\n",
       "      <td>68814.063510</td>\n",
       "      <td>3.0</td>\n",
       "      <td>Earth</td>\n",
       "      <td>False</td>\n",
       "      <td>25.80</td>\n",
       "    </tr>\n",
       "    <tr>\n",
       "      <th>20839</th>\n",
       "      <td>(2000 AA6)</td>\n",
       "      <td>0.101054</td>\n",
       "      <td>0.225964</td>\n",
       "      <td>105267.937498</td>\n",
       "      <td>4.0</td>\n",
       "      <td>Earth</td>\n",
       "      <td>False</td>\n",
       "      <td>22.10</td>\n",
       "    </tr>\n",
       "    <tr>\n",
       "      <th>13226</th>\n",
       "      <td>(2018 KL2)</td>\n",
       "      <td>0.121494</td>\n",
       "      <td>0.271669</td>\n",
       "      <td>41712.968418</td>\n",
       "      <td>4.0</td>\n",
       "      <td>Earth</td>\n",
       "      <td>False</td>\n",
       "      <td>21.70</td>\n",
       "    </tr>\n",
       "    <tr>\n",
       "      <th>...</th>\n",
       "      <td>...</td>\n",
       "      <td>...</td>\n",
       "      <td>...</td>\n",
       "      <td>...</td>\n",
       "      <td>...</td>\n",
       "      <td>...</td>\n",
       "      <td>...</td>\n",
       "      <td>...</td>\n",
       "    </tr>\n",
       "    <tr>\n",
       "      <th>15839</th>\n",
       "      <td>(2017 FR)</td>\n",
       "      <td>0.024241</td>\n",
       "      <td>0.054205</td>\n",
       "      <td>14890.651946</td>\n",
       "      <td>1.0</td>\n",
       "      <td>Earth</td>\n",
       "      <td>False</td>\n",
       "      <td>25.20</td>\n",
       "    </tr>\n",
       "    <tr>\n",
       "      <th>6374</th>\n",
       "      <td>(2003 GS22)</td>\n",
       "      <td>0.084053</td>\n",
       "      <td>0.187949</td>\n",
       "      <td>19551.523934</td>\n",
       "      <td>1.0</td>\n",
       "      <td>Earth</td>\n",
       "      <td>False</td>\n",
       "      <td>22.50</td>\n",
       "    </tr>\n",
       "    <tr>\n",
       "      <th>30798</th>\n",
       "      <td>(2021 XF)</td>\n",
       "      <td>0.005683</td>\n",
       "      <td>0.012707</td>\n",
       "      <td>59057.160931</td>\n",
       "      <td>4.0</td>\n",
       "      <td>Earth</td>\n",
       "      <td>False</td>\n",
       "      <td>28.35</td>\n",
       "    </tr>\n",
       "    <tr>\n",
       "      <th>9703</th>\n",
       "      <td>(2004 FM32)</td>\n",
       "      <td>0.010105</td>\n",
       "      <td>0.022596</td>\n",
       "      <td>15596.646540</td>\n",
       "      <td>0.0</td>\n",
       "      <td>Earth</td>\n",
       "      <td>False</td>\n",
       "      <td>27.10</td>\n",
       "    </tr>\n",
       "    <tr>\n",
       "      <th>15516</th>\n",
       "      <td>612901 (2004 XP14)</td>\n",
       "      <td>0.291444</td>\n",
       "      <td>0.651688</td>\n",
       "      <td>63214.578874</td>\n",
       "      <td>3.0</td>\n",
       "      <td>Earth</td>\n",
       "      <td>False</td>\n",
       "      <td>19.80</td>\n",
       "    </tr>\n",
       "  </tbody>\n",
       "</table>\n",
       "<p>40776 rows × 8 columns</p>\n",
       "</div>"
      ],
      "text/plain": [
       "                     name  est_diameter_min  est_diameter_max  \\\n",
       "26583          (2007 DM8)          0.015295          0.034201   \n",
       "1150           (2011 KE3)          0.044112          0.098637   \n",
       "90524           (2016 KL)          0.018389          0.041119   \n",
       "20839          (2000 AA6)          0.101054          0.225964   \n",
       "13226          (2018 KL2)          0.121494          0.271669   \n",
       "...                   ...               ...               ...   \n",
       "15839           (2017 FR)          0.024241          0.054205   \n",
       "6374          (2003 GS22)          0.084053          0.187949   \n",
       "30798           (2021 XF)          0.005683          0.012707   \n",
       "9703          (2004 FM32)          0.010105          0.022596   \n",
       "15516  612901 (2004 XP14)          0.291444          0.651688   \n",
       "\n",
       "       relative_velocity  miss_distance orbiting_body  sentry_object  \\\n",
       "26583       28583.976710            2.0         Earth          False   \n",
       "1150        18713.420891            2.0         Earth          False   \n",
       "90524       68814.063510            3.0         Earth          False   \n",
       "20839      105267.937498            4.0         Earth          False   \n",
       "13226       41712.968418            4.0         Earth          False   \n",
       "...                  ...            ...           ...            ...   \n",
       "15839       14890.651946            1.0         Earth          False   \n",
       "6374        19551.523934            1.0         Earth          False   \n",
       "30798       59057.160931            4.0         Earth          False   \n",
       "9703        15596.646540            0.0         Earth          False   \n",
       "15516       63214.578874            3.0         Earth          False   \n",
       "\n",
       "       absolute_magnitude  \n",
       "26583               26.20  \n",
       "1150                23.90  \n",
       "90524               25.80  \n",
       "20839               22.10  \n",
       "13226               21.70  \n",
       "...                   ...  \n",
       "15839               25.20  \n",
       "6374                22.50  \n",
       "30798               28.35  \n",
       "9703                27.10  \n",
       "15516               19.80  \n",
       "\n",
       "[40776 rows x 8 columns]"
      ]
     },
     "execution_count": 24,
     "metadata": {},
     "output_type": "execute_result"
    }
   ],
   "source": [
    "X_train"
   ]
  },
  {
   "cell_type": "markdown",
   "metadata": {},
   "source": [
    "Построение пайплайна"
   ]
  },
  {
   "cell_type": "code",
   "execution_count": 25,
   "metadata": {},
   "outputs": [],
   "source": [
    "class FeatureSelector(BaseEstimator, TransformerMixin):\n",
    "    def __init__(self, column):\n",
    "        self.column = column\n",
    "\n",
    "    def fit(self, X, y=None):\n",
    "        return self\n",
    "\n",
    "    def transform(self, X, y=None):\n",
    "        return X[self.column]\n",
    "    \n",
    "class NumberSelector(BaseEstimator, TransformerMixin):\n",
    "    \"\"\"\n",
    "    Transformer to select a single column from the data frame to perform additional transformations on\n",
    "    Use on numeric columns in the data\n",
    "    \"\"\"\n",
    "    def __init__(self, key):\n",
    "        self.key = key\n",
    "\n",
    "    def fit(self, X, y=None):\n",
    "        return self\n",
    "\n",
    "    def transform(self, X):\n",
    "        return X[[self.key]]\n",
    "    \n",
    "\n",
    "class OHEEncoder(BaseEstimator, TransformerMixin):\n",
    "    def __init__(self, key):\n",
    "        self.key = key\n",
    "        self.columns = []\n",
    "\n",
    "    def fit(self, X, y=None):\n",
    "        self.columns = [col for col in pd.get_dummies(X, prefix=self.key).columns]\n",
    "        return self\n",
    "\n",
    "    def transform(self, X):\n",
    "        X = pd.get_dummies(X, prefix=self.key)\n",
    "        test_columns = [col for col in X.columns]\n",
    "        for col_ in self.columns:\n",
    "            if col_ not in test_columns:\n",
    "                X[col_] = 0\n",
    "        return X[self.columns]\n",
    "\n",
    "\n",
    "class OHEEncoderBin(BaseEstimator, TransformerMixin):\n",
    "    def __init__(self, key):\n",
    "        self.key = key\n",
    "        self.columns = []\n",
    "\n",
    "    def fit(self, X, y=None):\n",
    "        B = [col for col in pd.get_dummies(X, prefix=self.key).columns]\n",
    "        self.columns = B[:1]\n",
    "        return self\n",
    "\n",
    "    def transform(self, X):\n",
    "        X = pd.get_dummies(X, prefix=self.key)\n",
    "    \n",
    "        return X[self.columns]  \n",
    "\n",
    "\n",
    "class NumericPower(BaseEstimator, TransformerMixin):\n",
    "    def __init__(self, key, p=2):\n",
    "        self.key = key\n",
    "        self.columns = []\n",
    "        self.p = p+1\n",
    "\n",
    "    def fit(self, X, y=None):\n",
    "        B = [self.key + str(i) for i in range(1, self.p)]\n",
    "        self.columns = B + ['log']\n",
    "        return self\n",
    "\n",
    "    def transform(self, X):\n",
    "        Xp = X.values.reshape(-1,1)\n",
    "        for i in range(2, self.p):\n",
    "            Xp = np.hstack([Xp,(X.values.reshape(-1,1) ** i).astype(float)])\n",
    "\n",
    "        Xp = np.hstack([Xp, np.log(X.values.reshape(-1,1) + 1).astype(float)])    \n",
    "        B = pd.DataFrame(data = Xp, index = X.index, columns =[self.columns] )\n",
    "        return B[self.columns]     "
   ]
  },
  {
   "cell_type": "code",
   "execution_count": 26,
   "metadata": {},
   "outputs": [
    {
     "name": "stdout",
     "output_type": "stream",
     "text": [
      "<class 'pandas.core.frame.DataFrame'>\n",
      "Int64Index: 40776 entries, 26583 to 15516\n",
      "Data columns (total 8 columns):\n",
      " #   Column              Non-Null Count  Dtype  \n",
      "---  ------              --------------  -----  \n",
      " 0   name                40776 non-null  object \n",
      " 1   est_diameter_min    40776 non-null  float64\n",
      " 2   est_diameter_max    40776 non-null  float64\n",
      " 3   relative_velocity   40776 non-null  float64\n",
      " 4   miss_distance       40776 non-null  float64\n",
      " 5   orbiting_body       40776 non-null  object \n",
      " 6   sentry_object       40776 non-null  bool   \n",
      " 7   absolute_magnitude  40776 non-null  float64\n",
      "dtypes: bool(1), float64(5), object(2)\n",
      "memory usage: 2.5+ MB\n"
     ]
    }
   ],
   "source": [
    "X_train.info()"
   ]
  },
  {
   "cell_type": "markdown",
   "metadata": {
    "id": "HaM6QdpqGrtk"
   },
   "source": [
    "Соберем кусок, ответственный за feature engineering"
   ]
  },
  {
   "cell_type": "code",
   "execution_count": 27,
   "metadata": {
    "id": "4lfkwyUoGrtn"
   },
   "outputs": [],
   "source": [
    "# combine\n",
    "cont_transformer = Pipeline([\n",
    "                ('selector', NumberSelector('est_diameter_min')),\n",
    "                ('standard' , StandardScaler())\n",
    "            ])\n",
    "diameter_max = Pipeline([\n",
    "                ('selector', NumberSelector(key='est_diameter_max')),\n",
    "#                ('pow_2', NumericPower(key='est_diameter_max', p=3)),\n",
    "                ('Scale', StandardScaler())\n",
    "            ])\n",
    "\n",
    "relative_velocity = Pipeline([\n",
    "                ('selector', NumberSelector(key='relative_velocity')),\n",
    "#                ('pow_2', NumericPower(key='relative_velocity', p=3)),\n",
    "                ('Scale', StandardScaler())\n",
    "            ])\n",
    "miss_distance  = Pipeline([\n",
    "                ('selector', NumberSelector('miss_distance')),\n",
    "                ('standard' , StandardScaler())\n",
    "           ])\n",
    "absolute_magnitude = Pipeline([\n",
    "                ('selector', NumberSelector('absolute_magnitude')),\n",
    "                ('standard' , StandardScaler())\n",
    "            ])\n",
    "sentry = Pipeline([\n",
    "                ('selector', FeatureSelector(column='sentry_object')),\n",
    "                ('ohe', OHEEncoder(key='sentry_object'))\n",
    "            ])\n",
    "\n",
    "\n",
    "\n",
    "feats = FeatureUnion([\n",
    "#                      ('name', description),\n",
    "                      ('est_diameter_min', cont_transformer),\n",
    "                      ('est_diameter_max', diameter_max),\n",
    "                     ('relative_velocity', relative_velocity),\n",
    "                      ('miss_distance', miss_distance),\n",
    "                      ('absolute_magnitude', absolute_magnitude),\n",
    "                      ('sentry_object', sentry)\n",
    "                     ])"
   ]
  },
  {
   "cell_type": "code",
   "execution_count": null,
   "metadata": {},
   "outputs": [],
   "source": []
  },
  {
   "cell_type": "markdown",
   "metadata": {},
   "source": [
    "Валидационный сет"
   ]
  },
  {
   "cell_type": "code",
   "execution_count": 28,
   "metadata": {},
   "outputs": [
    {
     "data": {
      "text/plain": [
       "Pipeline(steps=[('features',\n",
       "                 FeatureUnion(transformer_list=[('est_diameter_min',\n",
       "                                                 Pipeline(steps=[('selector',\n",
       "                                                                  NumberSelector(key='est_diameter_min')),\n",
       "                                                                 ('standard',\n",
       "                                                                  StandardScaler())])),\n",
       "                                                ('est_diameter_max',\n",
       "                                                 Pipeline(steps=[('selector',\n",
       "                                                                  NumberSelector(key='est_diameter_max')),\n",
       "                                                                 ('Scale',\n",
       "                                                                  StandardScaler())])),\n",
       "                                                ('relative_velocity',\n",
       "                                                 Pipeline(steps=[('selector',\n",
       "                                                                  Num...\n",
       "                                                                  NumberSelector(key='miss_distance')),\n",
       "                                                                 ('standard',\n",
       "                                                                  StandardScaler())])),\n",
       "                                                ('absolute_magnitude',\n",
       "                                                 Pipeline(steps=[('selector',\n",
       "                                                                  NumberSelector(key='absolute_magnitude')),\n",
       "                                                                 ('standard',\n",
       "                                                                  StandardScaler())])),\n",
       "                                                ('sentry_object',\n",
       "                                                 Pipeline(steps=[('selector',\n",
       "                                                                  FeatureSelector(column='sentry_object')),\n",
       "                                                                 ('ohe',\n",
       "                                                                  OHEEncoder(key='sentry_object'))]))])),\n",
       "                ('classifier', RandomForestClassifier())])"
      ]
     },
     "execution_count": 28,
     "metadata": {},
     "output_type": "execute_result"
    }
   ],
   "source": [
    "from sklearn.ensemble import RandomForestClassifier\n",
    "pipeline = Pipeline([\n",
    "    ('features', feats),\n",
    "    ('classifier',  RandomForestClassifier()),\n",
    "])\n",
    "\n",
    "pipeline.fit(X_train, y_train)"
   ]
  },
  {
   "cell_type": "code",
   "execution_count": 29,
   "metadata": {},
   "outputs": [
    {
     "data": {
      "text/plain": [
       "array([0.  , 0.07, 0.  , 0.  , 0.  , 0.  , 0.56, 0.  , 0.  , 0.  ])"
      ]
     },
     "execution_count": 29,
     "metadata": {},
     "output_type": "execute_result"
    }
   ],
   "source": [
    "preds_v = pipeline.predict_proba(X_val)[:, 1]\n",
    "preds_v[:10]"
   ]
  },
  {
   "cell_type": "code",
   "execution_count": 30,
   "metadata": {},
   "outputs": [
    {
     "name": "stdout",
     "output_type": "stream",
     "text": [
      "Best Threshold=0.04, F-Score=0.482, Precision=0.337, Recall=0.850\n"
     ]
    }
   ],
   "source": [
    "precision, recall, thresholds = precision_recall_curve(y_val, preds_v)\n",
    "\n",
    "fscore = (2 * precision * recall) / (precision + recall)\n",
    "# locate the index of the largest f score\n",
    "ix = np.argmax(fscore)\n",
    "print(f'Best Threshold={thresholds[ix]}, F-Score={fscore[ix]:.3f}, Precision={precision[ix]:.3f}, Recall={recall[ix]:.3f}')"
   ]
  },
  {
   "cell_type": "code",
   "execution_count": 31,
   "metadata": {},
   "outputs": [
    {
     "data": {
      "text/plain": [
       "0.8909331565036387"
      ]
     },
     "execution_count": 31,
     "metadata": {},
     "output_type": "execute_result"
    }
   ],
   "source": [
    "roc_auc_score(y_val, preds_v)"
   ]
  },
  {
   "cell_type": "code",
   "execution_count": 32,
   "metadata": {},
   "outputs": [
    {
     "name": "stdout",
     "output_type": "stream",
     "text": [
      "0:\tlearn: 0.4092807\ttotal: 150ms\tremaining: 7.36s\n",
      "1:\tlearn: 0.3055463\ttotal: 153ms\tremaining: 3.67s\n",
      "2:\tlearn: 0.2527085\ttotal: 157ms\tremaining: 2.46s\n",
      "3:\tlearn: 0.2235659\ttotal: 161ms\tremaining: 1.85s\n",
      "4:\tlearn: 0.2072707\ttotal: 165ms\tremaining: 1.49s\n",
      "5:\tlearn: 0.1976790\ttotal: 169ms\tremaining: 1.24s\n",
      "6:\tlearn: 0.1920361\ttotal: 174ms\tremaining: 1.07s\n",
      "7:\tlearn: 0.1895263\ttotal: 178ms\tremaining: 935ms\n",
      "8:\tlearn: 0.1863791\ttotal: 183ms\tremaining: 834ms\n",
      "9:\tlearn: 0.1842889\ttotal: 187ms\tremaining: 749ms\n",
      "10:\tlearn: 0.1829213\ttotal: 191ms\tremaining: 679ms\n",
      "11:\tlearn: 0.1821506\ttotal: 195ms\tremaining: 619ms\n",
      "12:\tlearn: 0.1816285\ttotal: 200ms\tremaining: 568ms\n",
      "13:\tlearn: 0.1813075\ttotal: 203ms\tremaining: 523ms\n",
      "14:\tlearn: 0.1808883\ttotal: 207ms\tremaining: 483ms\n",
      "15:\tlearn: 0.1806881\ttotal: 210ms\tremaining: 447ms\n",
      "16:\tlearn: 0.1803366\ttotal: 214ms\tremaining: 415ms\n",
      "17:\tlearn: 0.1797021\ttotal: 218ms\tremaining: 387ms\n",
      "18:\tlearn: 0.1791108\ttotal: 221ms\tremaining: 361ms\n",
      "19:\tlearn: 0.1788797\ttotal: 225ms\tremaining: 337ms\n",
      "20:\tlearn: 0.1787124\ttotal: 229ms\tremaining: 316ms\n",
      "21:\tlearn: 0.1782698\ttotal: 232ms\tremaining: 295ms\n",
      "22:\tlearn: 0.1775675\ttotal: 236ms\tremaining: 277ms\n",
      "23:\tlearn: 0.1772732\ttotal: 239ms\tremaining: 259ms\n",
      "24:\tlearn: 0.1770681\ttotal: 243ms\tremaining: 243ms\n",
      "25:\tlearn: 0.1767365\ttotal: 247ms\tremaining: 228ms\n",
      "26:\tlearn: 0.1761976\ttotal: 251ms\tremaining: 214ms\n",
      "27:\tlearn: 0.1760866\ttotal: 254ms\tremaining: 200ms\n",
      "28:\tlearn: 0.1756162\ttotal: 258ms\tremaining: 187ms\n",
      "29:\tlearn: 0.1753751\ttotal: 262ms\tremaining: 174ms\n",
      "30:\tlearn: 0.1750202\ttotal: 265ms\tremaining: 162ms\n",
      "31:\tlearn: 0.1747603\ttotal: 269ms\tremaining: 151ms\n",
      "32:\tlearn: 0.1745828\ttotal: 272ms\tremaining: 140ms\n",
      "33:\tlearn: 0.1744903\ttotal: 276ms\tremaining: 130ms\n",
      "34:\tlearn: 0.1741659\ttotal: 279ms\tremaining: 120ms\n",
      "35:\tlearn: 0.1739044\ttotal: 283ms\tremaining: 110ms\n",
      "36:\tlearn: 0.1735484\ttotal: 286ms\tremaining: 101ms\n",
      "37:\tlearn: 0.1733157\ttotal: 290ms\tremaining: 91.6ms\n",
      "38:\tlearn: 0.1732027\ttotal: 293ms\tremaining: 82.8ms\n",
      "39:\tlearn: 0.1728206\ttotal: 297ms\tremaining: 74.2ms\n",
      "40:\tlearn: 0.1725797\ttotal: 300ms\tremaining: 65.9ms\n",
      "41:\tlearn: 0.1722405\ttotal: 304ms\tremaining: 57.9ms\n",
      "42:\tlearn: 0.1720928\ttotal: 307ms\tremaining: 50ms\n",
      "43:\tlearn: 0.1717687\ttotal: 311ms\tremaining: 42.4ms\n",
      "44:\tlearn: 0.1715962\ttotal: 314ms\tremaining: 34.9ms\n",
      "45:\tlearn: 0.1714675\ttotal: 318ms\tremaining: 27.6ms\n",
      "46:\tlearn: 0.1711954\ttotal: 322ms\tremaining: 20.5ms\n",
      "47:\tlearn: 0.1710739\ttotal: 325ms\tremaining: 13.5ms\n",
      "48:\tlearn: 0.1708982\ttotal: 329ms\tremaining: 6.71ms\n",
      "49:\tlearn: 0.1706774\ttotal: 333ms\tremaining: 0us\n"
     ]
    },
    {
     "data": {
      "text/plain": [
       "Pipeline(steps=[('features',\n",
       "                 FeatureUnion(transformer_list=[('est_diameter_min',\n",
       "                                                 Pipeline(steps=[('selector',\n",
       "                                                                  NumberSelector(key='est_diameter_min')),\n",
       "                                                                 ('standard',\n",
       "                                                                  StandardScaler())])),\n",
       "                                                ('est_diameter_max',\n",
       "                                                 Pipeline(steps=[('selector',\n",
       "                                                                  NumberSelector(key='est_diameter_max')),\n",
       "                                                                 ('Scale',\n",
       "                                                                  StandardScaler())])),\n",
       "                                                ('relative_velocity',\n",
       "                                                 Pipeline(steps=[('selector',\n",
       "                                                                  Num...\n",
       "                                                                  StandardScaler())])),\n",
       "                                                ('absolute_magnitude',\n",
       "                                                 Pipeline(steps=[('selector',\n",
       "                                                                  NumberSelector(key='absolute_magnitude')),\n",
       "                                                                 ('standard',\n",
       "                                                                  StandardScaler())])),\n",
       "                                                ('sentry_object',\n",
       "                                                 Pipeline(steps=[('selector',\n",
       "                                                                  FeatureSelector(column='sentry_object')),\n",
       "                                                                 ('ohe',\n",
       "                                                                  OHEEncoder(key='sentry_object'))]))])),\n",
       "                ('classifier',\n",
       "                 <catboost.core.CatBoostClassifier object at 0x0000020D31305DF0>)])"
      ]
     },
     "execution_count": 32,
     "metadata": {},
     "output_type": "execute_result"
    }
   ],
   "source": [
    "from catboost import CatBoostClassifier\n",
    "pipeline = Pipeline([\n",
    "    ('features', feats),\n",
    "    ('classifier',  CatBoostClassifier(\n",
    "    iterations=50,\n",
    "    random_seed=42,\n",
    "    learning_rate=0.5,\n",
    "    custom_loss=['AUC', 'Accuracy']\n",
    ")),\n",
    "])\n",
    "pipeline.fit(X_train, y_train)"
   ]
  },
  {
   "cell_type": "code",
   "execution_count": 33,
   "metadata": {},
   "outputs": [
    {
     "data": {
      "text/plain": [
       "array([0.00039407, 0.19820391, 0.00035024, 0.00046017, 0.00039407,\n",
       "       0.00039381, 0.21992588, 0.00071526, 0.00045568, 0.00040733])"
      ]
     },
     "execution_count": 33,
     "metadata": {},
     "output_type": "execute_result"
    }
   ],
   "source": [
    "preds_v = pipeline.predict_proba(X_val)[:, 1]\n",
    "preds_v[:10]"
   ]
  },
  {
   "cell_type": "code",
   "execution_count": 34,
   "metadata": {},
   "outputs": [
    {
     "name": "stdout",
     "output_type": "stream",
     "text": [
      "Best Threshold=0.15737583316866882, F-Score=0.491, Precision=0.338, Recall=0.897\n"
     ]
    }
   ],
   "source": [
    "precision, recall, thresholds = precision_recall_curve(y_val, preds_v)\n",
    "\n",
    "fscore = (2 * precision * recall) / (precision + recall)\n",
    "# locate the index of the largest f score\n",
    "ix = np.argmax(fscore)\n",
    "print(f'Best Threshold={thresholds[ix]}, F-Score={fscore[ix]:.3f}, Precision={precision[ix]:.3f}, Recall={recall[ix]:.3f}')"
   ]
  },
  {
   "cell_type": "code",
   "execution_count": 35,
   "metadata": {},
   "outputs": [
    {
     "data": {
      "text/plain": [
       "0.9007504801983222"
      ]
     },
     "execution_count": 35,
     "metadata": {},
     "output_type": "execute_result"
    }
   ],
   "source": [
    "roc_auc_score(y_val, preds_v)"
   ]
  },
  {
   "cell_type": "code",
   "execution_count": 36,
   "metadata": {},
   "outputs": [
    {
     "name": "stdout",
     "output_type": "stream",
     "text": [
      "[10:39:10] WARNING: C:/Users/Administrator/workspace/xgboost-win64_release_1.5.0/src/learner.cc:1115: Starting in XGBoost 1.3.0, the default evaluation metric used with the objective 'binary:logistic' was changed from 'error' to 'logloss'. Explicitly set eval_metric if you'd like to restore the old behavior.\n"
     ]
    },
    {
     "data": {
      "text/plain": [
       "Pipeline(steps=[('features',\n",
       "                 FeatureUnion(transformer_list=[('est_diameter_min',\n",
       "                                                 Pipeline(steps=[('selector',\n",
       "                                                                  NumberSelector(key='est_diameter_min')),\n",
       "                                                                 ('standard',\n",
       "                                                                  StandardScaler())])),\n",
       "                                                ('est_diameter_max',\n",
       "                                                 Pipeline(steps=[('selector',\n",
       "                                                                  NumberSelector(key='est_diameter_max')),\n",
       "                                                                 ('Scale',\n",
       "                                                                  StandardScaler())])),\n",
       "                                                ('relative_velocity',\n",
       "                                                 Pipeline(steps=[('selector',\n",
       "                                                                  Num...\n",
       "                               interaction_constraints='',\n",
       "                               learning_rate=0.300000012, max_delta_step=0,\n",
       "                               max_depth=6, min_child_weight=1, missing=nan,\n",
       "                               monotone_constraints='()', n_estimators=100,\n",
       "                               n_jobs=12, num_parallel_tree=1, predictor='auto',\n",
       "                               random_state=21, reg_alpha=0, reg_lambda=1,\n",
       "                               scale_pos_weight=1, subsample=1,\n",
       "                               tree_method='exact', use_label_encoder=False,\n",
       "                               validate_parameters=1, verbosity=None))])"
      ]
     },
     "execution_count": 36,
     "metadata": {},
     "output_type": "execute_result"
    }
   ],
   "source": [
    "import xgboost as xgb\n",
    "from xgboost import XGBClassifier\n",
    "pipeline = Pipeline([\n",
    "    ('features', feats),\n",
    "    ('classifier', xgb.XGBClassifier(random_state=21, use_label_encoder=False)),\n",
    "])\n",
    "pipeline.fit(X_train, y_train)"
   ]
  },
  {
   "cell_type": "code",
   "execution_count": 37,
   "metadata": {},
   "outputs": [
    {
     "data": {
      "text/plain": [
       "array([4.7120415e-05, 2.1941085e-01, 4.9067665e-05, 3.9149130e-05,\n",
       "       7.2268951e-05, 7.2268951e-05, 2.2537437e-01, 2.1103384e-05,\n",
       "       2.0549936e-05, 2.8468892e-05], dtype=float32)"
      ]
     },
     "execution_count": 37,
     "metadata": {},
     "output_type": "execute_result"
    }
   ],
   "source": [
    "preds_v = pipeline.predict_proba(X_val)[:, 1]\n",
    "preds_v[:10]"
   ]
  },
  {
   "cell_type": "code",
   "execution_count": 38,
   "metadata": {},
   "outputs": [
    {
     "name": "stdout",
     "output_type": "stream",
     "text": [
      "Best Threshold=0.14365026354789734, F-Score=0.502, Precision=0.352, Recall=0.872\n"
     ]
    }
   ],
   "source": [
    "precision, recall, thresholds = precision_recall_curve(y_val, preds_v)\n",
    "\n",
    "fscore = (2 * precision * recall) / (precision + recall)\n",
    "# locate the index of the largest f score\n",
    "ix = np.argmax(fscore)\n",
    "print(f'Best Threshold={thresholds[ix]}, F-Score={fscore[ix]:.3f}, Precision={precision[ix]:.3f}, Recall={recall[ix]:.3f}')"
   ]
  },
  {
   "cell_type": "code",
   "execution_count": 39,
   "metadata": {},
   "outputs": [
    {
     "data": {
      "text/plain": [
       "0.9099827712163978"
      ]
     },
     "execution_count": 39,
     "metadata": {},
     "output_type": "execute_result"
    }
   ],
   "source": [
    "roc_auc_score(y_val, preds_v)"
   ]
  },
  {
   "cell_type": "code",
   "execution_count": 40,
   "metadata": {},
   "outputs": [
    {
     "data": {
      "text/plain": [
       "Pipeline(steps=[('features',\n",
       "                 FeatureUnion(transformer_list=[('est_diameter_min',\n",
       "                                                 Pipeline(steps=[('selector',\n",
       "                                                                  NumberSelector(key='est_diameter_min')),\n",
       "                                                                 ('standard',\n",
       "                                                                  StandardScaler())])),\n",
       "                                                ('est_diameter_max',\n",
       "                                                 Pipeline(steps=[('selector',\n",
       "                                                                  NumberSelector(key='est_diameter_max')),\n",
       "                                                                 ('Scale',\n",
       "                                                                  StandardScaler())])),\n",
       "                                                ('relative_velocity',\n",
       "                                                 Pipeline(steps=[('selector',\n",
       "                                                                  Num...\n",
       "                                                                  NumberSelector(key='miss_distance')),\n",
       "                                                                 ('standard',\n",
       "                                                                  StandardScaler())])),\n",
       "                                                ('absolute_magnitude',\n",
       "                                                 Pipeline(steps=[('selector',\n",
       "                                                                  NumberSelector(key='absolute_magnitude')),\n",
       "                                                                 ('standard',\n",
       "                                                                  StandardScaler())])),\n",
       "                                                ('sentry_object',\n",
       "                                                 Pipeline(steps=[('selector',\n",
       "                                                                  FeatureSelector(column='sentry_object')),\n",
       "                                                                 ('ohe',\n",
       "                                                                  OHEEncoder(key='sentry_object'))]))])),\n",
       "                ('classifier', RandomForestClassifier())])"
      ]
     },
     "execution_count": 40,
     "metadata": {},
     "output_type": "execute_result"
    }
   ],
   "source": [
    "from sklearn.ensemble import RandomForestClassifier\n",
    "pipeline = Pipeline([\n",
    "    ('features', feats),\n",
    "    ('classifier',  RandomForestClassifier())\n",
    "])\n",
    "pipeline.fit(X_train, y_train)"
   ]
  },
  {
   "cell_type": "code",
   "execution_count": 41,
   "metadata": {},
   "outputs": [
    {
     "data": {
      "text/plain": [
       "array([0.  , 0.11, 0.  , 0.  , 0.  , 0.  , 0.62, 0.  , 0.  , 0.  ])"
      ]
     },
     "execution_count": 41,
     "metadata": {},
     "output_type": "execute_result"
    }
   ],
   "source": [
    "preds_v = pipeline.predict_proba(X_val)[:, 1]\n",
    "preds_v[:10]"
   ]
  },
  {
   "cell_type": "code",
   "execution_count": 42,
   "metadata": {},
   "outputs": [
    {
     "name": "stdout",
     "output_type": "stream",
     "text": [
      "Best Threshold=1.0, F-Score=nan, Precision=0.000, Recall=0.000\n"
     ]
    },
    {
     "name": "stderr",
     "output_type": "stream",
     "text": [
      "<ipython-input-42-5fd7f650eb0f>:3: RuntimeWarning: invalid value encountered in true_divide\n",
      "  fscore = (2 * precision * recall) / (precision + recall)\n"
     ]
    }
   ],
   "source": [
    "precision, recall, thresholds = precision_recall_curve(y_val, preds_v)\n",
    "\n",
    "fscore = (2 * precision * recall) / (precision + recall)\n",
    "# locate the index of the largest f score\n",
    "ix = np.argmax(fscore)\n",
    "print(f'Best Threshold={thresholds[ix]}, F-Score={fscore[ix]:.3f}, Precision={precision[ix]:.3f}, Recall={recall[ix]:.3f}')"
   ]
  },
  {
   "cell_type": "code",
   "execution_count": 43,
   "metadata": {},
   "outputs": [
    {
     "data": {
      "text/plain": [
       "Pipeline(steps=[('features',\n",
       "                 FeatureUnion(transformer_list=[('est_diameter_min',\n",
       "                                                 Pipeline(steps=[('selector',\n",
       "                                                                  NumberSelector(key='est_diameter_min')),\n",
       "                                                                 ('standard',\n",
       "                                                                  StandardScaler())])),\n",
       "                                                ('est_diameter_max',\n",
       "                                                 Pipeline(steps=[('selector',\n",
       "                                                                  NumberSelector(key='est_diameter_max')),\n",
       "                                                                 ('Scale',\n",
       "                                                                  StandardScaler())])),\n",
       "                                                ('relative_velocity',\n",
       "                                                 Pipeline(steps=[('selector',\n",
       "                                                                  Num...\n",
       "                                                                  NumberSelector(key='miss_distance')),\n",
       "                                                                 ('standard',\n",
       "                                                                  StandardScaler())])),\n",
       "                                                ('absolute_magnitude',\n",
       "                                                 Pipeline(steps=[('selector',\n",
       "                                                                  NumberSelector(key='absolute_magnitude')),\n",
       "                                                                 ('standard',\n",
       "                                                                  StandardScaler())])),\n",
       "                                                ('sentry_object',\n",
       "                                                 Pipeline(steps=[('selector',\n",
       "                                                                  FeatureSelector(column='sentry_object')),\n",
       "                                                                 ('ohe',\n",
       "                                                                  OHEEncoder(key='sentry_object'))]))])),\n",
       "                ('classifier', RandomForestClassifier())])"
      ]
     },
     "execution_count": 43,
     "metadata": {},
     "output_type": "execute_result"
    }
   ],
   "source": [
    "pipeline.fit(X_train, y_train)"
   ]
  },
  {
   "cell_type": "code",
   "execution_count": 44,
   "metadata": {},
   "outputs": [
    {
     "data": {
      "text/plain": [
       "0.8906659713494055"
      ]
     },
     "execution_count": 44,
     "metadata": {},
     "output_type": "execute_result"
    }
   ],
   "source": [
    "roc_auc_score(y_val, preds_v)"
   ]
  },
  {
   "cell_type": "code",
   "execution_count": 45,
   "metadata": {},
   "outputs": [
    {
     "data": {
      "text/plain": [
       "Pipeline(steps=[('features',\n",
       "                 FeatureUnion(transformer_list=[('est_diameter_min',\n",
       "                                                 Pipeline(steps=[('selector',\n",
       "                                                                  NumberSelector(key='est_diameter_min')),\n",
       "                                                                 ('standard',\n",
       "                                                                  StandardScaler())])),\n",
       "                                                ('est_diameter_max',\n",
       "                                                 Pipeline(steps=[('selector',\n",
       "                                                                  NumberSelector(key='est_diameter_max')),\n",
       "                                                                 ('Scale',\n",
       "                                                                  StandardScaler())])),\n",
       "                                                ('relative_velocity',\n",
       "                                                 Pipeline(steps=[('selector',\n",
       "                                                                  Num...\n",
       "                                                                  NumberSelector(key='miss_distance')),\n",
       "                                                                 ('standard',\n",
       "                                                                  StandardScaler())])),\n",
       "                                                ('absolute_magnitude',\n",
       "                                                 Pipeline(steps=[('selector',\n",
       "                                                                  NumberSelector(key='absolute_magnitude')),\n",
       "                                                                 ('standard',\n",
       "                                                                  StandardScaler())])),\n",
       "                                                ('sentry_object',\n",
       "                                                 Pipeline(steps=[('selector',\n",
       "                                                                  FeatureSelector(column='sentry_object')),\n",
       "                                                                 ('ohe',\n",
       "                                                                  OHEEncoder(key='sentry_object'))]))])),\n",
       "                ('classifier', KNeighborsClassifier())])"
      ]
     },
     "execution_count": 45,
     "metadata": {},
     "output_type": "execute_result"
    }
   ],
   "source": [
    "from sklearn.neighbors import KNeighborsClassifier\n",
    "pipeline = Pipeline([\n",
    "    ('features', feats),\n",
    "    ('classifier', KNeighborsClassifier())\n",
    "])\n",
    "\n",
    "pipeline.fit(X_train, y_train)"
   ]
  },
  {
   "cell_type": "code",
   "execution_count": 46,
   "metadata": {},
   "outputs": [
    {
     "data": {
      "text/plain": [
       "array([0. , 0.4, 0. , 0. , 0. , 0. , 0. , 0. , 0. , 0. ])"
      ]
     },
     "execution_count": 46,
     "metadata": {},
     "output_type": "execute_result"
    }
   ],
   "source": [
    "preds_v = pipeline.predict_proba(X_val)[:, 1]\n",
    "preds_v[:10]"
   ]
  },
  {
   "cell_type": "code",
   "execution_count": 47,
   "metadata": {},
   "outputs": [
    {
     "name": "stdout",
     "output_type": "stream",
     "text": [
      "Best Threshold=0.2, F-Score=0.406, Precision=0.280, Recall=0.737\n"
     ]
    }
   ],
   "source": [
    "precision, recall, thresholds = precision_recall_curve(y_val, preds_v)\n",
    "\n",
    "fscore = (2 * precision * recall) / (precision + recall)\n",
    "# locate the index of the largest f score\n",
    "ix = np.argmax(fscore)\n",
    "print(f'Best Threshold={thresholds[ix]}, F-Score={fscore[ix]:.3f}, Precision={precision[ix]:.3f}, Recall={recall[ix]:.3f}')"
   ]
  },
  {
   "cell_type": "code",
   "execution_count": 48,
   "metadata": {},
   "outputs": [
    {
     "data": {
      "text/plain": [
       "0.7671312988008943"
      ]
     },
     "execution_count": 48,
     "metadata": {},
     "output_type": "execute_result"
    }
   ],
   "source": [
    "roc_auc_score(y_val, preds_v)"
   ]
  },
  {
   "cell_type": "markdown",
   "metadata": {
    "id": "EosvEXq6Grtr"
   },
   "source": [
    "Продолжим с RandomForestClassifier"
   ]
  },
  {
   "cell_type": "code",
   "execution_count": 49,
   "metadata": {},
   "outputs": [
    {
     "data": {
      "text/plain": [
       "Pipeline(steps=[('features',\n",
       "                 FeatureUnion(transformer_list=[('est_diameter_min',\n",
       "                                                 Pipeline(steps=[('selector',\n",
       "                                                                  NumberSelector(key='est_diameter_min')),\n",
       "                                                                 ('standard',\n",
       "                                                                  StandardScaler())])),\n",
       "                                                ('est_diameter_max',\n",
       "                                                 Pipeline(steps=[('selector',\n",
       "                                                                  NumberSelector(key='est_diameter_max')),\n",
       "                                                                 ('Scale',\n",
       "                                                                  StandardScaler())])),\n",
       "                                                ('relative_velocity',\n",
       "                                                 Pipeline(steps=[('selector',\n",
       "                                                                  Num...\n",
       "                                                                  NumberSelector(key='miss_distance')),\n",
       "                                                                 ('standard',\n",
       "                                                                  StandardScaler())])),\n",
       "                                                ('absolute_magnitude',\n",
       "                                                 Pipeline(steps=[('selector',\n",
       "                                                                  NumberSelector(key='absolute_magnitude')),\n",
       "                                                                 ('standard',\n",
       "                                                                  StandardScaler())])),\n",
       "                                                ('sentry_object',\n",
       "                                                 Pipeline(steps=[('selector',\n",
       "                                                                  FeatureSelector(column='sentry_object')),\n",
       "                                                                 ('ohe',\n",
       "                                                                  OHEEncoder(key='sentry_object'))]))])),\n",
       "                ('classifier', RandomForestClassifier())])"
      ]
     },
     "execution_count": 49,
     "metadata": {},
     "output_type": "execute_result"
    }
   ],
   "source": [
    "# pipeline = Pipeline([\n",
    "#     ('features', feats),\n",
    "#     ('classifier', LogisticRegression()),\n",
    "# ])\n",
    "\n",
    "# pipeline.fit(X_train, y_train)\n",
    "\n",
    "from sklearn.ensemble import RandomForestClassifier\n",
    "pipeline = Pipeline([\n",
    "    ('features', feats),\n",
    "    ('classifier',  RandomForestClassifier())\n",
    "])\n",
    "pipeline.fit(X_train, y_train)\n",
    "\n",
    "# import xgboost as xgb\n",
    "# from xgboost import XGBClassifier\n",
    "# pipeline = Pipeline([\n",
    "#     ('features', feats),\n",
    "#     ('classifier', xgb.XGBClassifier(random_state=21, use_label_encoder=False)),\n",
    "# ])\n",
    "# pipeline.fit(X_train, y_train)\n",
    "# from sklearn.neighbors import KNeighborsClassifier\n",
    "# pipeline = Pipeline([\n",
    "#     ('features', feats),\n",
    "#     ('classifier', KNeighborsClassifier())\n",
    "# ])\n",
    "\n",
    "# pipeline.fit(X_train, y_train)\n",
    "\n",
    "# from catboost import CatBoostClassifier\n",
    "# pipeline = Pipeline([\n",
    "#     ('features', feats),\n",
    "#     ('classifier',  CatBoostClassifier(\n",
    "#     iterations=50,\n",
    "#     random_seed=42,\n",
    "#     learning_rate=0.5,\n",
    "#     custom_loss=['AUC', 'Accuracy']\n",
    "# )),\n",
    "# ])\n",
    "# pipeline.fit(X_train, y_train)"
   ]
  },
  {
   "cell_type": "code",
   "execution_count": null,
   "metadata": {},
   "outputs": [],
   "source": []
  },
  {
   "cell_type": "code",
   "execution_count": 50,
   "metadata": {},
   "outputs": [],
   "source": [
    "# from sklearn.model_selection import cross_val_score\n",
    "# cv_scores = cross_val_score(pipeline, X_train, y_train, cv=20, scoring='roc_auc')\n",
    "# cv_score = np.mean(cv_scores)\n",
    "# cv_score_std = np.std(cv_scores)\n",
    "# print('CV score is {}+-{}'.format(cv_score, cv_score_std))"
   ]
  },
  {
   "cell_type": "code",
   "execution_count": 51,
   "metadata": {},
   "outputs": [
    {
     "data": {
      "text/plain": [
       "Pipeline(steps=[('features',\n",
       "                 FeatureUnion(transformer_list=[('est_diameter_min',\n",
       "                                                 Pipeline(steps=[('selector',\n",
       "                                                                  NumberSelector(key='est_diameter_min')),\n",
       "                                                                 ('standard',\n",
       "                                                                  StandardScaler())])),\n",
       "                                                ('est_diameter_max',\n",
       "                                                 Pipeline(steps=[('selector',\n",
       "                                                                  NumberSelector(key='est_diameter_max')),\n",
       "                                                                 ('Scale',\n",
       "                                                                  StandardScaler())])),\n",
       "                                                ('relative_velocity',\n",
       "                                                 Pipeline(steps=[('selector',\n",
       "                                                                  Num...\n",
       "                                                                  NumberSelector(key='miss_distance')),\n",
       "                                                                 ('standard',\n",
       "                                                                  StandardScaler())])),\n",
       "                                                ('absolute_magnitude',\n",
       "                                                 Pipeline(steps=[('selector',\n",
       "                                                                  NumberSelector(key='absolute_magnitude')),\n",
       "                                                                 ('standard',\n",
       "                                                                  StandardScaler())])),\n",
       "                                                ('sentry_object',\n",
       "                                                 Pipeline(steps=[('selector',\n",
       "                                                                  FeatureSelector(column='sentry_object')),\n",
       "                                                                 ('ohe',\n",
       "                                                                  OHEEncoder(key='sentry_object'))]))])),\n",
       "                ('classifier', RandomForestClassifier())])"
      ]
     },
     "execution_count": 51,
     "metadata": {},
     "output_type": "execute_result"
    }
   ],
   "source": [
    "pipeline.fit(X_train, y_train)"
   ]
  },
  {
   "cell_type": "markdown",
   "metadata": {
    "id": "PJjFDr7CGrtx"
   },
   "source": [
    "Посмотрим, как выглядит наш pipeline"
   ]
  },
  {
   "cell_type": "code",
   "execution_count": 52,
   "metadata": {
    "colab": {
     "base_uri": "https://localhost:8080/"
    },
    "id": "mrekox0QGrty",
    "outputId": "4a291c0a-d28b-450a-a344-46ef69e67dd3"
   },
   "outputs": [
    {
     "data": {
      "text/plain": [
       "[('features',\n",
       "  FeatureUnion(transformer_list=[('est_diameter_min',\n",
       "                                  Pipeline(steps=[('selector',\n",
       "                                                   NumberSelector(key='est_diameter_min')),\n",
       "                                                  ('standard',\n",
       "                                                   StandardScaler())])),\n",
       "                                 ('est_diameter_max',\n",
       "                                  Pipeline(steps=[('selector',\n",
       "                                                   NumberSelector(key='est_diameter_max')),\n",
       "                                                  ('Scale', StandardScaler())])),\n",
       "                                 ('relative_velocity',\n",
       "                                  Pipeline(steps=[('selector',\n",
       "                                                   NumberSelector(key='relative_ve...\n",
       "                                  Pipeline(steps=[('selector',\n",
       "                                                   NumberSelector(key='miss_distance')),\n",
       "                                                  ('standard',\n",
       "                                                   StandardScaler())])),\n",
       "                                 ('absolute_magnitude',\n",
       "                                  Pipeline(steps=[('selector',\n",
       "                                                   NumberSelector(key='absolute_magnitude')),\n",
       "                                                  ('standard',\n",
       "                                                   StandardScaler())])),\n",
       "                                 ('sentry_object',\n",
       "                                  Pipeline(steps=[('selector',\n",
       "                                                   FeatureSelector(column='sentry_object')),\n",
       "                                                  ('ohe',\n",
       "                                                   OHEEncoder(key='sentry_object'))]))])),\n",
       " ('classifier', RandomForestClassifier())]"
      ]
     },
     "execution_count": 52,
     "metadata": {},
     "output_type": "execute_result"
    }
   ],
   "source": [
    "pipeline.steps"
   ]
  },
  {
   "cell_type": "code",
   "execution_count": 53,
   "metadata": {},
   "outputs": [
    {
     "data": {
      "text/html": [
       "<div>\n",
       "<style scoped>\n",
       "    .dataframe tbody tr th:only-of-type {\n",
       "        vertical-align: middle;\n",
       "    }\n",
       "\n",
       "    .dataframe tbody tr th {\n",
       "        vertical-align: top;\n",
       "    }\n",
       "\n",
       "    .dataframe thead th {\n",
       "        text-align: right;\n",
       "    }\n",
       "</style>\n",
       "<table border=\"1\" class=\"dataframe\">\n",
       "  <thead>\n",
       "    <tr style=\"text-align: right;\">\n",
       "      <th></th>\n",
       "      <th>name</th>\n",
       "      <th>est_diameter_min</th>\n",
       "      <th>est_diameter_max</th>\n",
       "      <th>relative_velocity</th>\n",
       "      <th>miss_distance</th>\n",
       "      <th>orbiting_body</th>\n",
       "      <th>sentry_object</th>\n",
       "      <th>absolute_magnitude</th>\n",
       "    </tr>\n",
       "  </thead>\n",
       "  <tbody>\n",
       "    <tr>\n",
       "      <th>26583</th>\n",
       "      <td>(2007 DM8)</td>\n",
       "      <td>0.015295</td>\n",
       "      <td>0.034201</td>\n",
       "      <td>28583.976710</td>\n",
       "      <td>2.0</td>\n",
       "      <td>Earth</td>\n",
       "      <td>False</td>\n",
       "      <td>26.20</td>\n",
       "    </tr>\n",
       "    <tr>\n",
       "      <th>1150</th>\n",
       "      <td>(2011 KE3)</td>\n",
       "      <td>0.044112</td>\n",
       "      <td>0.098637</td>\n",
       "      <td>18713.420891</td>\n",
       "      <td>2.0</td>\n",
       "      <td>Earth</td>\n",
       "      <td>False</td>\n",
       "      <td>23.90</td>\n",
       "    </tr>\n",
       "    <tr>\n",
       "      <th>90524</th>\n",
       "      <td>(2016 KL)</td>\n",
       "      <td>0.018389</td>\n",
       "      <td>0.041119</td>\n",
       "      <td>68814.063510</td>\n",
       "      <td>3.0</td>\n",
       "      <td>Earth</td>\n",
       "      <td>False</td>\n",
       "      <td>25.80</td>\n",
       "    </tr>\n",
       "    <tr>\n",
       "      <th>20839</th>\n",
       "      <td>(2000 AA6)</td>\n",
       "      <td>0.101054</td>\n",
       "      <td>0.225964</td>\n",
       "      <td>105267.937498</td>\n",
       "      <td>4.0</td>\n",
       "      <td>Earth</td>\n",
       "      <td>False</td>\n",
       "      <td>22.10</td>\n",
       "    </tr>\n",
       "    <tr>\n",
       "      <th>13226</th>\n",
       "      <td>(2018 KL2)</td>\n",
       "      <td>0.121494</td>\n",
       "      <td>0.271669</td>\n",
       "      <td>41712.968418</td>\n",
       "      <td>4.0</td>\n",
       "      <td>Earth</td>\n",
       "      <td>False</td>\n",
       "      <td>21.70</td>\n",
       "    </tr>\n",
       "    <tr>\n",
       "      <th>...</th>\n",
       "      <td>...</td>\n",
       "      <td>...</td>\n",
       "      <td>...</td>\n",
       "      <td>...</td>\n",
       "      <td>...</td>\n",
       "      <td>...</td>\n",
       "      <td>...</td>\n",
       "      <td>...</td>\n",
       "    </tr>\n",
       "    <tr>\n",
       "      <th>15839</th>\n",
       "      <td>(2017 FR)</td>\n",
       "      <td>0.024241</td>\n",
       "      <td>0.054205</td>\n",
       "      <td>14890.651946</td>\n",
       "      <td>1.0</td>\n",
       "      <td>Earth</td>\n",
       "      <td>False</td>\n",
       "      <td>25.20</td>\n",
       "    </tr>\n",
       "    <tr>\n",
       "      <th>6374</th>\n",
       "      <td>(2003 GS22)</td>\n",
       "      <td>0.084053</td>\n",
       "      <td>0.187949</td>\n",
       "      <td>19551.523934</td>\n",
       "      <td>1.0</td>\n",
       "      <td>Earth</td>\n",
       "      <td>False</td>\n",
       "      <td>22.50</td>\n",
       "    </tr>\n",
       "    <tr>\n",
       "      <th>30798</th>\n",
       "      <td>(2021 XF)</td>\n",
       "      <td>0.005683</td>\n",
       "      <td>0.012707</td>\n",
       "      <td>59057.160931</td>\n",
       "      <td>4.0</td>\n",
       "      <td>Earth</td>\n",
       "      <td>False</td>\n",
       "      <td>28.35</td>\n",
       "    </tr>\n",
       "    <tr>\n",
       "      <th>9703</th>\n",
       "      <td>(2004 FM32)</td>\n",
       "      <td>0.010105</td>\n",
       "      <td>0.022596</td>\n",
       "      <td>15596.646540</td>\n",
       "      <td>0.0</td>\n",
       "      <td>Earth</td>\n",
       "      <td>False</td>\n",
       "      <td>27.10</td>\n",
       "    </tr>\n",
       "    <tr>\n",
       "      <th>15516</th>\n",
       "      <td>612901 (2004 XP14)</td>\n",
       "      <td>0.291444</td>\n",
       "      <td>0.651688</td>\n",
       "      <td>63214.578874</td>\n",
       "      <td>3.0</td>\n",
       "      <td>Earth</td>\n",
       "      <td>False</td>\n",
       "      <td>19.80</td>\n",
       "    </tr>\n",
       "  </tbody>\n",
       "</table>\n",
       "<p>40776 rows × 8 columns</p>\n",
       "</div>"
      ],
      "text/plain": [
       "                     name  est_diameter_min  est_diameter_max  \\\n",
       "26583          (2007 DM8)          0.015295          0.034201   \n",
       "1150           (2011 KE3)          0.044112          0.098637   \n",
       "90524           (2016 KL)          0.018389          0.041119   \n",
       "20839          (2000 AA6)          0.101054          0.225964   \n",
       "13226          (2018 KL2)          0.121494          0.271669   \n",
       "...                   ...               ...               ...   \n",
       "15839           (2017 FR)          0.024241          0.054205   \n",
       "6374          (2003 GS22)          0.084053          0.187949   \n",
       "30798           (2021 XF)          0.005683          0.012707   \n",
       "9703          (2004 FM32)          0.010105          0.022596   \n",
       "15516  612901 (2004 XP14)          0.291444          0.651688   \n",
       "\n",
       "       relative_velocity  miss_distance orbiting_body  sentry_object  \\\n",
       "26583       28583.976710            2.0         Earth          False   \n",
       "1150        18713.420891            2.0         Earth          False   \n",
       "90524       68814.063510            3.0         Earth          False   \n",
       "20839      105267.937498            4.0         Earth          False   \n",
       "13226       41712.968418            4.0         Earth          False   \n",
       "...                  ...            ...           ...            ...   \n",
       "15839       14890.651946            1.0         Earth          False   \n",
       "6374        19551.523934            1.0         Earth          False   \n",
       "30798       59057.160931            4.0         Earth          False   \n",
       "9703        15596.646540            0.0         Earth          False   \n",
       "15516       63214.578874            3.0         Earth          False   \n",
       "\n",
       "       absolute_magnitude  \n",
       "26583               26.20  \n",
       "1150                23.90  \n",
       "90524               25.80  \n",
       "20839               22.10  \n",
       "13226               21.70  \n",
       "...                   ...  \n",
       "15839               25.20  \n",
       "6374                22.50  \n",
       "30798               28.35  \n",
       "9703                27.10  \n",
       "15516               19.80  \n",
       "\n",
       "[40776 rows x 8 columns]"
      ]
     },
     "execution_count": 53,
     "metadata": {},
     "output_type": "execute_result"
    }
   ],
   "source": [
    "X_train"
   ]
  },
  {
   "cell_type": "markdown",
   "metadata": {
    "id": "blNARG08Grtz"
   },
   "source": [
    "Сохраним модель (пайплайн)"
   ]
  },
  {
   "cell_type": "code",
   "execution_count": 54,
   "metadata": {
    "id": "u9ENN-zdGrt1"
   },
   "outputs": [],
   "source": [
    "with open(\"logreg_pipeline.dill\", \"wb\") as f:\n",
    "    dill.dump(pipeline, f)"
   ]
  },
  {
   "cell_type": "markdown",
   "metadata": {
    "id": "dbm98jEM2Gr8"
   },
   "source": [
    "# Step 2 - PREDICT"
   ]
  },
  {
   "cell_type": "markdown",
   "metadata": {
    "id": "LxGmuf_z24B5"
   },
   "source": [
    "### Проверка работоспособности и качества пайплайна\n",
    "\n",
    "Здесь мы еще не запускаем никакое API, а загружаем модель (pipeline) напрямую и проверяем на отложенной (тестовой) выборке"
   ]
  },
  {
   "cell_type": "code",
   "execution_count": 55,
   "metadata": {
    "id": "ChYPxDk_24CD"
   },
   "outputs": [],
   "source": [
    "X_test = pd.read_csv(\"X_test.csv\")\n",
    "y_test = pd.read_csv(\"y_test.csv\")"
   ]
  },
  {
   "cell_type": "code",
   "execution_count": 56,
   "metadata": {
    "colab": {
     "base_uri": "https://localhost:8080/",
     "height": 398
    },
    "id": "WBr-fIkQ24CE",
    "outputId": "30959e1c-ab13-4d54-bad7-9873aaa39d0d",
    "scrolled": true
   },
   "outputs": [
    {
     "data": {
      "text/html": [
       "<div>\n",
       "<style scoped>\n",
       "    .dataframe tbody tr th:only-of-type {\n",
       "        vertical-align: middle;\n",
       "    }\n",
       "\n",
       "    .dataframe tbody tr th {\n",
       "        vertical-align: top;\n",
       "    }\n",
       "\n",
       "    .dataframe thead th {\n",
       "        text-align: right;\n",
       "    }\n",
       "</style>\n",
       "<table border=\"1\" class=\"dataframe\">\n",
       "  <thead>\n",
       "    <tr style=\"text-align: right;\">\n",
       "      <th></th>\n",
       "      <th>name</th>\n",
       "      <th>est_diameter_min</th>\n",
       "      <th>est_diameter_max</th>\n",
       "      <th>relative_velocity</th>\n",
       "      <th>miss_distance</th>\n",
       "      <th>orbiting_body</th>\n",
       "      <th>sentry_object</th>\n",
       "      <th>absolute_magnitude</th>\n",
       "    </tr>\n",
       "  </thead>\n",
       "  <tbody>\n",
       "    <tr>\n",
       "      <th>0</th>\n",
       "      <td>(2019 YT1)</td>\n",
       "      <td>0.024241</td>\n",
       "      <td>0.054205</td>\n",
       "      <td>22148.962596</td>\n",
       "      <td>5.028574e+07</td>\n",
       "      <td>Earth</td>\n",
       "      <td>False</td>\n",
       "      <td>25.2</td>\n",
       "    </tr>\n",
       "    <tr>\n",
       "      <th>1</th>\n",
       "      <td>(2019 US)</td>\n",
       "      <td>0.012722</td>\n",
       "      <td>0.028447</td>\n",
       "      <td>26477.211836</td>\n",
       "      <td>1.683201e+06</td>\n",
       "      <td>Earth</td>\n",
       "      <td>False</td>\n",
       "      <td>26.6</td>\n",
       "    </tr>\n",
       "    <tr>\n",
       "      <th>2</th>\n",
       "      <td>(2019 UU)</td>\n",
       "      <td>0.013322</td>\n",
       "      <td>0.029788</td>\n",
       "      <td>33770.201397</td>\n",
       "      <td>3.943220e+06</td>\n",
       "      <td>Earth</td>\n",
       "      <td>False</td>\n",
       "      <td>26.5</td>\n",
       "    </tr>\n",
       "  </tbody>\n",
       "</table>\n",
       "</div>"
      ],
      "text/plain": [
       "         name  est_diameter_min  est_diameter_max  relative_velocity  \\\n",
       "0  (2019 YT1)          0.024241          0.054205       22148.962596   \n",
       "1   (2019 US)          0.012722          0.028447       26477.211836   \n",
       "2   (2019 UU)          0.013322          0.029788       33770.201397   \n",
       "\n",
       "   miss_distance orbiting_body  sentry_object  absolute_magnitude  \n",
       "0   5.028574e+07         Earth          False                25.2  \n",
       "1   1.683201e+06         Earth          False                26.6  \n",
       "2   3.943220e+06         Earth          False                26.5  "
      ]
     },
     "execution_count": 56,
     "metadata": {},
     "output_type": "execute_result"
    }
   ],
   "source": [
    "X_test.head(3)"
   ]
  },
  {
   "cell_type": "code",
   "execution_count": 57,
   "metadata": {
    "id": "SeqnhORg24CF"
   },
   "outputs": [],
   "source": [
    "with open('logreg_pipeline.dill', 'rb') as in_strm:\n",
    "    pipeline = dill.load(in_strm)"
   ]
  },
  {
   "cell_type": "code",
   "execution_count": 58,
   "metadata": {
    "colab": {
     "base_uri": "https://localhost:8080/"
    },
    "id": "ECgyPbnw6GoR",
    "outputId": "2f42f61d-a632-41c8-c137-6ea37f549460"
   },
   "outputs": [
    {
     "data": {
      "text/plain": [
       "Pipeline(steps=[('features',\n",
       "                 FeatureUnion(transformer_list=[('est_diameter_min',\n",
       "                                                 Pipeline(steps=[('selector',\n",
       "                                                                  NumberSelector(key='est_diameter_min')),\n",
       "                                                                 ('standard',\n",
       "                                                                  StandardScaler())])),\n",
       "                                                ('est_diameter_max',\n",
       "                                                 Pipeline(steps=[('selector',\n",
       "                                                                  NumberSelector(key='est_diameter_max')),\n",
       "                                                                 ('Scale',\n",
       "                                                                  StandardScaler())])),\n",
       "                                                ('relative_velocity',\n",
       "                                                 Pipeline(steps=[('selector',\n",
       "                                                                  Num...\n",
       "                                                                  NumberSelector(key='miss_distance')),\n",
       "                                                                 ('standard',\n",
       "                                                                  StandardScaler())])),\n",
       "                                                ('absolute_magnitude',\n",
       "                                                 Pipeline(steps=[('selector',\n",
       "                                                                  NumberSelector(key='absolute_magnitude')),\n",
       "                                                                 ('standard',\n",
       "                                                                  StandardScaler())])),\n",
       "                                                ('sentry_object',\n",
       "                                                 Pipeline(steps=[('selector',\n",
       "                                                                  FeatureSelector(column='sentry_object')),\n",
       "                                                                 ('ohe',\n",
       "                                                                  OHEEncoder(key='sentry_object'))]))])),\n",
       "                ('classifier', RandomForestClassifier())])"
      ]
     },
     "execution_count": 58,
     "metadata": {},
     "output_type": "execute_result"
    }
   ],
   "source": [
    "pipeline"
   ]
  },
  {
   "cell_type": "code",
   "execution_count": 59,
   "metadata": {
    "id": "KisGNNJ824CG"
   },
   "outputs": [],
   "source": [
    "preds = pipeline.predict_proba(X_test)[:, 1]\n",
    "\n",
    "pred_df = pd.DataFrame({'preds': preds})\n",
    "pred_df.to_csv(\"test_predictions.csv\", index=None)"
   ]
  },
  {
   "cell_type": "code",
   "execution_count": 60,
   "metadata": {
    "colab": {
     "base_uri": "https://localhost:8080/"
    },
    "id": "_teu9EeZ6_Mr",
    "outputId": "b811afc6-e1ef-46e1-b4a9-4d3e909b47a6"
   },
   "outputs": [
    {
     "data": {
      "text/plain": [
       "array([0.  , 0.  , 0.  , 0.03, 0.  , 0.47, 0.  , 0.  , 0.01, 0.15, 0.41,\n",
       "       0.03, 0.62, 0.  , 0.  , 0.  , 0.15, 0.02, 0.  , 0.59, 0.  , 0.  ,\n",
       "       0.18, 0.08, 0.25, 0.31, 0.97, 0.32, 0.04, 0.  , 0.  , 0.  , 0.  ,\n",
       "       0.  , 0.  , 0.  , 0.  , 0.51, 0.  , 0.  , 0.11, 0.  , 0.  , 0.19,\n",
       "       0.  , 0.02, 0.04, 0.  , 0.  , 0.02, 0.  , 0.  , 0.  , 0.  , 0.  ,\n",
       "       0.  , 0.  , 0.  , 0.  , 0.  , 0.02, 0.  , 0.1 , 0.  , 0.  , 0.  ,\n",
       "       0.01, 0.53, 0.  , 0.57, 0.01, 0.  , 0.  , 0.  , 0.13, 0.  , 0.32,\n",
       "       0.  , 0.  , 0.  , 0.  , 0.11, 0.  , 0.11, 0.35, 0.  , 0.  , 0.82,\n",
       "       0.04, 0.63, 0.  , 0.  , 0.  , 0.  , 0.  , 0.  , 0.  , 0.56, 0.09,\n",
       "       0.06])"
      ]
     },
     "execution_count": 60,
     "metadata": {},
     "output_type": "execute_result"
    }
   ],
   "source": [
    "preds[:100]"
   ]
  },
  {
   "cell_type": "code",
   "execution_count": 61,
   "metadata": {
    "colab": {
     "base_uri": "https://localhost:8080/"
    },
    "id": "svdcO2Ki64wy",
    "outputId": "46d3596a-bdc4-4858-c43a-2e137754cc25"
   },
   "outputs": [
    {
     "name": "stdout",
     "output_type": "stream",
     "text": [
      "Best Threshold=0.07, F-Score=0.491, Precision=0.360, Recall=0.774\n"
     ]
    }
   ],
   "source": [
    "precision, recall, thresholds = precision_recall_curve(y_test, preds)\n",
    "\n",
    "fscore = (2 * precision * recall) / (precision + recall)\n",
    "# locate the index of the largest f score\n",
    "ix = np.argmax(fscore)\n",
    "print(f'Best Threshold={thresholds[ix]}, F-Score={fscore[ix]:.3f}, Precision={precision[ix]:.3f}, Recall={recall[ix]:.3f}')"
   ]
  },
  {
   "cell_type": "code",
   "execution_count": 62,
   "metadata": {},
   "outputs": [],
   "source": [
    "import itertools\n",
    "\n",
    "def plot_confusion_matrix(cm, classes,\n",
    "                          normalize=False,\n",
    "                          title='Confusion matrix',\n",
    "                          cmap=plt.cm.Blues):\n",
    "    \"\"\"\n",
    "    This function prints and plots the confusion matrix.\n",
    "    Normalization can be applied by setting `normalize=True`.\n",
    "    \"\"\"\n",
    "    plt.imshow(cm, interpolation='nearest', cmap=cmap)\n",
    "    plt.title(title)\n",
    "    plt.colorbar()\n",
    "    tick_marks = np.arange(len(classes))\n",
    "    plt.xticks(tick_marks, classes, rotation=45)\n",
    "    plt.yticks(tick_marks, classes)\n",
    "\n",
    "    if normalize:\n",
    "        cm = cm.astype('float') / cm.sum(axis=1)[:, np.newaxis]\n",
    "        print(\"Normalized confusion matrix\")\n",
    "    else:\n",
    "        print('Confusion matrix, without normalization')\n",
    "\n",
    "    print(cm)\n",
    "\n",
    "    thresh = cm.max() / 2.\n",
    "    for i, j in itertools.product(range(cm.shape[0]), range(cm.shape[1])):\n",
    "        plt.text(j, i, cm[i, j],\n",
    "                 horizontalalignment=\"center\",\n",
    "                 color=\"white\" if cm[i, j] > thresh else \"black\")\n",
    "\n",
    "    plt.tight_layout()\n",
    "    plt.ylabel('True label')\n",
    "    plt.xlabel('Predicted label')"
   ]
  },
  {
   "cell_type": "code",
   "execution_count": 63,
   "metadata": {},
   "outputs": [
    {
     "name": "stdout",
     "output_type": "stream",
     "text": [
      "Confusion matrix, without normalization\n",
      "[[23173  3854]\n",
      " [  738  2211]]\n"
     ]
    },
    {
     "data": {
      "image/png": "[encoded data removed]",
      "text/plain": [
       "<Figure size 432x216 with 2 Axes>"
      ]
     },
     "metadata": {
      "needs_background": "light"
     },
     "output_type": "display_data"
    }
   ],
   "source": [
    "\n",
    "font = {'size' : 10}\n",
    "\n",
    "plt.rc('font', **font)\n",
    "\n",
    "cnf_matrix = confusion_matrix(y_test, preds>thresholds[ix])\n",
    "plt.figure(figsize=(6, 3))\n",
    "plot_confusion_matrix(cnf_matrix, classes=['Non-Churn', 'churn'],\n",
    "                      title='Confusion matrix_mean')\n",
    "plt.savefig(\"conf_matrix.png\")\n",
    "plt.show()"
   ]
  },
  {
   "cell_type": "code",
   "execution_count": 64,
   "metadata": {},
   "outputs": [
    {
     "data": {
      "text/plain": [
       "0.8925334615399043"
      ]
     },
     "execution_count": 64,
     "metadata": {},
     "output_type": "execute_result"
    }
   ],
   "source": [
    "roc_auc_score(y_test, preds)"
   ]
  },
  {
   "cell_type": "code",
   "execution_count": 65,
   "metadata": {},
   "outputs": [
    {
     "data": {
      "text/plain": [
       "True"
      ]
     },
     "execution_count": 65,
     "metadata": {},
     "output_type": "execute_result"
    }
   ],
   "source": [
    "bool(sentry)"
   ]
  },
  {
   "cell_type": "markdown",
   "metadata": {
    "id": "faRb47TiBvkL"
   },
   "source": [
    "# Step 3 - FLASK"
   ]
  },
  {
   "cell_type": "code",
   "execution_count": 66,
   "metadata": {
    "id": "KaWqHrF2865_"
   },
   "outputs": [],
   "source": [
    "from flask_ngrok import run_with_ngrok\n",
    "from flask import Flask, request, jsonify\n",
    "import pandas as pd"
   ]
  },
  {
   "cell_type": "code",
   "execution_count": 67,
   "metadata": {
    "id": "YVdnKbCeUfxX"
   },
   "outputs": [],
   "source": [
    "import pandas as pd\n",
    "import dill"
   ]
  },
  {
   "cell_type": "markdown",
   "metadata": {
    "id": "6Je5vTHecqjm"
   },
   "source": [
    "### **Создаем сервис для обработки запросов к модели**"
   ]
  },
  {
   "cell_type": "code",
   "execution_count": 68,
   "metadata": {
    "id": "KixQ-op0GIpV"
   },
   "outputs": [],
   "source": [
    "# Загружаем обученные модели\n",
    "with open('logreg_pipeline.dill', 'rb') as in_strm:\n",
    "    model = dill.load(in_strm)"
   ]
  },
  {
   "cell_type": "code",
   "execution_count": 69,
   "metadata": {
    "id": "QAyoTMLNVJzn"
   },
   "outputs": [],
   "source": [
    "X_test = pd.read_csv(\"X_test.csv\")\n",
    "y_test = pd.read_csv(\"y_test.csv\")"
   ]
  },
  {
   "cell_type": "code",
   "execution_count": 70,
   "metadata": {},
   "outputs": [],
   "source": [
    "# sentry"
   ]
  },
  {
   "cell_type": "markdown",
   "metadata": {
    "id": "aomkZwKfdA08"
   },
   "source": [
    "Запустить сервис и не глушить его, пока работаем "
   ]
  },
  {
   "cell_type": "code",
   "execution_count": 71,
   "metadata": {},
   "outputs": [],
   "source": [
    "import json\n",
    "\n",
    "class CustomJSONizer(json.JSONEncoder):\n",
    "    def default(self, sentry):\n",
    "        return super().encode(bool(sentry)) \\\n",
    "            if isinstance(sentry, np.bool_) \\\n",
    "            else super().default(sentry)"
   ]
  },
  {
   "cell_type": "code",
   "execution_count": 72,
   "metadata": {},
   "outputs": [
    {
     "data": {
      "text/plain": [
       "26583    False\n",
       "1150     False\n",
       "90524    False\n",
       "20839    False\n",
       "13226    False\n",
       "         ...  \n",
       "15839    False\n",
       "6374     False\n",
       "30798    False\n",
       "9703     False\n",
       "15516    False\n",
       "Name: sentry_object, Length: 40776, dtype: bool"
      ]
     },
     "execution_count": 72,
     "metadata": {},
     "output_type": "execute_result"
    }
   ],
   "source": [
    "X_train['sentry_object']"
   ]
  },
  {
   "cell_type": "code",
   "execution_count": null,
   "metadata": {
    "colab": {
     "base_uri": "https://localhost:8080/"
    },
    "id": "pmii6qPeGInX",
    "outputId": "854ffa3d-033d-44d4-e4f2-65ec57064c13"
   },
   "outputs": [],
   "source": [
    "# Обработчики и запуск Flask\n",
    "app = Flask(__name__)\n",
    "#run_with_ngrok(app)  # Start ngrok when app is run\n",
    "\n",
    "\n",
    "@app.route(\"/\", methods=[\"GET\"])\n",
    "def general():\n",
    "    return \"Welcome to prediction process\"\n",
    "\n",
    "@app.route('/predict', methods=['POST'])\n",
    "def predict():\n",
    "    data = {\"success\": False}\n",
    "\n",
    "    cont_transformer, diameter_max, relative_velocity, miss_distance, absolute_magnitude,  sentry  = \"\", \"\", \"\", \"\", \"\", \"\"\n",
    "    request_json = request.get_json()\n",
    "    \n",
    "    if request_json['est_diameter_min']:\n",
    "        cont_transformer = request_json['est_diameter_min']\n",
    "                \n",
    "    if request_json['est_diameter_max']:\n",
    "        diameter_max = request_json['est_diameter_max']\n",
    "        \n",
    "    if request_json['relative_velocity']:\n",
    "        relative_velocity = request_json['relative_velocity']\n",
    "    \n",
    "    if request_json['miss_distance']:\n",
    "        miss_distance = request_json['miss_distance']\n",
    "     \n",
    "    if request_json['absolute_magnitude']:\n",
    "        absolute_magnitude = request_json['absolute_magnitude']\n",
    "        \n",
    "    if request_json['sentry_object']:\n",
    "        sentry = request_json['sentry_object']   \n",
    "    \n",
    "    print(cont_transformer)  \n",
    "    preds = model.predict_proba(pd.DataFrame({\"est_diameter_min\": [cont_transformer],\n",
    "                                              \"est_diameter_max\": [diameter_max],\n",
    "                                              \"relative_velocity\": [relative_velocity],\n",
    "                                              \"sentry_object\": [bool(sentry)],\n",
    "                                             'miss_distance':[miss_distance],\n",
    "                                             'absolute_magnitude':[absolute_magnitude]}))\n",
    "    data[\"predictions\"] = preds[:, 1][0]\n",
    "    data[\"est_diameter_min\"] = cont_transformer\n",
    "        # indicate that the request was a success\n",
    "    data[\"success\"] = True\n",
    "    print('OK')\n",
    "\n",
    "        # return the data dictionary as a JSON response\n",
    "    return jsonify(data)\n",
    "\n",
    "\n",
    "if __name__ == '__main__':\n",
    "    app.run()"
   ]
  },
  {
   "cell_type": "code",
   "execution_count": null,
   "metadata": {},
   "outputs": [],
   "source": []
  },
  {
   "cell_type": "markdown",
   "metadata": {
    "id": "0ZsjyJVGUuAc"
   },
   "source": [
    "Сторона клиента: файл №2\n"
   ]
  },
  {
   "cell_type": "markdown",
   "metadata": {
    "id": "FUOlFwX-Wgwl"
   },
   "source": [
    "# Домашнее задание\n",
    "\n",
    "**Стандартная версия**\n",
    "Нужно реализовать rest api на базе flask в google colab.\n",
    "\n",
    "1. выбрать себе датасет (который интересен или нравится больше всего, можно глянуть здесь https://economic-caper-a4c.notion.site/d062c410b90145bca90fc23b1348c813), сделать pipeline (преобразования + модель), сохранить его на диск. Если не хочется пайплайн, то можно без него, но так вам же будет удобнее потом вызывать его из кода сервиса.\n",
    "2. Реализовать ноутбук с сервером\n",
    "3. Реализовать ноутбук с клиентом\n",
    "\n",
    "\n",
    "**Сложная версия**\n",
    "\n",
    "Нужно реализовать rest api на базе flask (пример https://github.com/fimochka-sudo/GB_docker_flask_example)\n",
    "\n",
    "1. выбрать себе датасет (который интересен или нравится больше всего, можно глянуть здесь https://economic-caper-a4c.notion.site/d062c410b90145bca90fc23b1348c813), сделать pipeline (преобразования + модель), сохранить его на диск. Если не хочется пайплайн, то можно без него, но так вам же будет удобнее потом вызывать его из кода сервиса.\n",
    "2. для вашего проекта вам понадобится requirements.txt с пакетами. Можно за основу взять такой файл из проекта выше. Для его установки прям в pycharm можно открыть терминал и сделать pip install -r requirements.txt (находясь в корне проекта)\n",
    "3. итоговый проект должен содержать:\n",
    "    1. каталог app/models/ (здесь модель-пайплайн предобученная либо код обучения модели-пайплайна)\n",
    "    2. файл app/run_server.py (здесь основной код flask-приложения)\n",
    "    3. requirements.txt (список пакетов, которые у вас используются в проекте - в корне проекта)\n",
    "    4. README.md (здесь какое-то описание, что вы делаете, что за данные, как запускать и т.д)\n",
    "    5. *Dockerfile\n",
    "    6. *docker-entrypoint.sh\n",
    "4. *front-end сервис какой-то, который умеет принимать от пользователя введеные данные и ходить в ваш api. На самом деле полезно больше вам, т.к если ваш проект будет далее развиваться (новые модели, интересные подходы), то это хороший пунктик к резюме и в принципе - строчка в портфолио)"
   ]
  },
  {
   "cell_type": "code",
   "execution_count": null,
   "metadata": {},
   "outputs": [],
   "source": []
  }
 ],
 "metadata": {
  "colab": {
   "collapsed_sections": [],
   "name": "web_9.ipynb",
   "provenance": []
  },
  "kernelspec": {
   "display_name": "Python 3",
   "language": "python",
   "name": "python3"
  },
  "language_info": {
   "codemirror_mode": {
    "name": "ipython",
    "version": 3
   },
   "file_extension": ".py",
   "mimetype": "text/x-python",
   "name": "python",
   "nbconvert_exporter": "python",
   "pygments_lexer": "ipython3",
   "version": "3.8.8"
  }
 },
 "nbformat": 4,
 "nbformat_minor": 1
}
