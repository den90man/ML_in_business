{
 "cells": [
  {
   "cell_type": "markdown",
   "metadata": {
    "id": "mCvG3HpmbRKo"
   },
   "source": [
    "Строим запрос к нашему сервису"
   ]
  },
  {
   "cell_type": "code",
   "execution_count": 1,
   "metadata": {
    "id": "Cxm28pii80xp"
   },
   "outputs": [],
   "source": [
    "import requests\n",
    "\n",
    "import urllib.request\n",
    "import json "
   ]
  },
  {
   "cell_type": "code",
   "execution_count": 4,
   "metadata": {
    "id": "J_xtPIQt8toy"
   },
   "outputs": [],
   "source": [
    "# формируем запрос\n",
    "def send_json(x):\n",
    "    cont_transformer, diameter_max, relative_velocity, miss_distance, absolute_magnitude, sentry = x\n",
    "#                       ('est_diameter_min', cont_transformer),\n",
    "#                       ('est_diameter_max', diameter_max),\n",
    "#                       ('relative_velocity', relative_velocity),\n",
    "#                       ('miss_distance', miss_distance),\n",
    "#                       ('absolute_magnitude', absolute_magnitude),\n",
    "#                       ('sentry_object', sentry)\n",
    "    #print(description, company_profile, benefits)\n",
    "#  ({\"est_diameter_min\": [cont_transformer],\n",
    "#                                               \"est_diameter_max\": [diameter_max],\n",
    "#                                               \"relative_velocity\": [relative_velocity],\n",
    "#                                               \"sentry_object\": [bool(sentry)],\n",
    "#                                              'miss_distance':[miss_distance],\n",
    "#                                              'absolute_magnitude':[absolute_magnitude]   \n",
    "    body = {\n",
    "#        'name': description, \n",
    "        'est_diameter_min': cont_transformer,\n",
    "        'est_diameter_max': diameter_max,\n",
    "        'relative_velocity': relative_velocity,\n",
    "        'miss_distance': miss_distance,\n",
    "        'absolute_magnitude': absolute_magnitude,\n",
    "        'sentry_object': bool(sentry)\n",
    "        }\n",
    "    myurl = 'http://127.0.0.1:5000' + '/predict'\n",
    "    headers = {'content-type': 'application/json; charset=utf-8'}\n",
    "    response = requests.post(myurl, json=body, headers=headers)\n",
    "    return response.json()['predictions']"
   ]
  },
  {
   "cell_type": "code",
   "execution_count": 5,
   "metadata": {},
   "outputs": [],
   "source": [
    "# # формируем запрос\n",
    "# def send_json(x):\n",
    "#     cont_transformer, diameter_max, absolute_magnitude, relative_velocity = x\n",
    "# #    print(description, company_profile, benefits)\n",
    "#     body = {\n",
    "#         'est_diameter_min': [cont_transformer],\n",
    "#         'est_diameter_max': [diameter_max],\n",
    "#         'absolute_magnitude': [absolute_magnitude],\n",
    "# #        'sentry_object': [sentry],\n",
    "#         'relative_velocity': [relative_velocity]\n",
    "#         }\n",
    "#     myurl = 'http://127.0.0.1:5000' + '/predict'\n",
    "#     headers = {'content-type': 'application/json; charset=utf-8'}\n",
    "#     response = requests.post(myurl, json=body, headers=headers)\n",
    "#     return response.json()['predictions']"
   ]
  },
  {
   "cell_type": "code",
   "execution_count": 6,
   "metadata": {},
   "outputs": [],
   "source": [
    "# print(cont_transformer, diameter_max, absolute_magnitude, relative_velocity)"
   ]
  },
  {
   "cell_type": "code",
   "execution_count": 7,
   "metadata": {
    "colab": {
     "base_uri": "https://localhost:8080/"
    },
    "id": "OehA49hRN_pU",
    "outputId": "389c9faa-f5c2-4a78-b72a-79616feadc63"
   },
   "outputs": [],
   "source": [
    "# обращение к серверу с запросом из одного набора (его построили руками выше - data)\n",
    "# response = send_json(data)\n",
    "# print('предсказание', response)"
   ]
  },
  {
   "cell_type": "markdown",
   "metadata": {
    "id": "0ap3kT0Ndwy8"
   },
   "source": [
    "Сделаем обработку массы запросов:\n",
    "\n",
    "1. загрузим данные X_test\n",
    "\n",
    "https://drive.google.com/file/d/1-Ltk-t1acAoA5Xtz0zPZ1yOqjoYiP2h5\n",
    "\n",
    "https://drive.google.com/file/d/1vb0KLnOeRsg4G33TaPxKEV2OMnla1oyL"
   ]
  },
  {
   "cell_type": "code",
   "execution_count": 8,
   "metadata": {
    "id": "86un8JyLFzIy"
   },
   "outputs": [],
   "source": [
    "import pandas as pd\n",
    "from sklearn.metrics import roc_auc_score, roc_curve, precision_recall_curve\n",
    "from sklearn.metrics import f1_score\n",
    "from urllib import request, parse\n",
    "\n",
    "\n",
    "X_test = pd.read_csv(\"X_test.csv\")\n",
    "y_test = pd.read_csv(\"y_test.csv\")"
   ]
  },
  {
   "cell_type": "markdown",
   "metadata": {
    "id": "EEI1n7m4d6hl"
   },
   "source": [
    "2. Передаем запрос одиночный из наших данных и посмотрим на ответ"
   ]
  },
  {
   "cell_type": "code",
   "execution_count": 9,
   "metadata": {
    "id": "6hdMT1q39TuA"
   },
   "outputs": [],
   "source": [
    "response = send_json(X_test[['est_diameter_min', 'est_diameter_max', 'relative_velocity', 'miss_distance', 'absolute_magnitude', 'sentry_object']].iloc[0,:])"
   ]
  },
  {
   "cell_type": "code",
   "execution_count": 10,
   "metadata": {
    "colab": {
     "base_uri": "https://localhost:8080/"
    },
    "id": "bfMibegjGgKq",
    "outputId": "16be2d2e-7220-4cf4-bbb7-da18531e4e06"
   },
   "outputs": [
    {
     "data": {
      "text/plain": [
       "0.0"
      ]
     },
     "execution_count": 10,
     "metadata": {},
     "output_type": "execute_result"
    }
   ],
   "source": [
    "response"
   ]
  },
  {
   "cell_type": "code",
   "execution_count": 11,
   "metadata": {
    "colab": {
     "base_uri": "https://localhost:8080/",
     "height": 206
    },
    "id": "ldRkh4v9miMF",
    "outputId": "fe3a3d92-c56b-4e16-a808-a3e16d768c6c"
   },
   "outputs": [
    {
     "data": {
      "text/html": [
       "<div>\n",
       "<style scoped>\n",
       "    .dataframe tbody tr th:only-of-type {\n",
       "        vertical-align: middle;\n",
       "    }\n",
       "\n",
       "    .dataframe tbody tr th {\n",
       "        vertical-align: top;\n",
       "    }\n",
       "\n",
       "    .dataframe thead th {\n",
       "        text-align: right;\n",
       "    }\n",
       "</style>\n",
       "<table border=\"1\" class=\"dataframe\">\n",
       "  <thead>\n",
       "    <tr style=\"text-align: right;\">\n",
       "      <th></th>\n",
       "      <th>est_diameter_min</th>\n",
       "      <th>est_diameter_max</th>\n",
       "      <th>relative_velocity</th>\n",
       "      <th>miss_distance</th>\n",
       "      <th>absolute_magnitude</th>\n",
       "      <th>sentry_object</th>\n",
       "    </tr>\n",
       "  </thead>\n",
       "  <tbody>\n",
       "    <tr>\n",
       "      <th>0</th>\n",
       "      <td>0.024241</td>\n",
       "      <td>0.054205</td>\n",
       "      <td>22148.962596</td>\n",
       "      <td>5.028574e+07</td>\n",
       "      <td>25.20</td>\n",
       "      <td>False</td>\n",
       "    </tr>\n",
       "    <tr>\n",
       "      <th>1</th>\n",
       "      <td>0.012722</td>\n",
       "      <td>0.028447</td>\n",
       "      <td>26477.211836</td>\n",
       "      <td>1.683201e+06</td>\n",
       "      <td>26.60</td>\n",
       "      <td>False</td>\n",
       "    </tr>\n",
       "    <tr>\n",
       "      <th>2</th>\n",
       "      <td>0.013322</td>\n",
       "      <td>0.029788</td>\n",
       "      <td>33770.201397</td>\n",
       "      <td>3.943220e+06</td>\n",
       "      <td>26.50</td>\n",
       "      <td>False</td>\n",
       "    </tr>\n",
       "    <tr>\n",
       "      <th>3</th>\n",
       "      <td>0.193444</td>\n",
       "      <td>0.432554</td>\n",
       "      <td>43599.575296</td>\n",
       "      <td>7.346837e+07</td>\n",
       "      <td>20.69</td>\n",
       "      <td>False</td>\n",
       "    </tr>\n",
       "    <tr>\n",
       "      <th>4</th>\n",
       "      <td>0.044112</td>\n",
       "      <td>0.098637</td>\n",
       "      <td>36398.080883</td>\n",
       "      <td>6.352916e+07</td>\n",
       "      <td>23.90</td>\n",
       "      <td>False</td>\n",
       "    </tr>\n",
       "  </tbody>\n",
       "</table>\n",
       "</div>"
      ],
      "text/plain": [
       "   est_diameter_min  est_diameter_max  relative_velocity  miss_distance  \\\n",
       "0          0.024241          0.054205       22148.962596   5.028574e+07   \n",
       "1          0.012722          0.028447       26477.211836   1.683201e+06   \n",
       "2          0.013322          0.029788       33770.201397   3.943220e+06   \n",
       "3          0.193444          0.432554       43599.575296   7.346837e+07   \n",
       "4          0.044112          0.098637       36398.080883   6.352916e+07   \n",
       "\n",
       "   absolute_magnitude  sentry_object  \n",
       "0               25.20          False  \n",
       "1               26.60          False  \n",
       "2               26.50          False  \n",
       "3               20.69          False  \n",
       "4               23.90          False  "
      ]
     },
     "execution_count": 11,
     "metadata": {},
     "output_type": "execute_result"
    }
   ],
   "source": [
    "X_test[['est_diameter_min', 'est_diameter_max', 'relative_velocity', 'miss_distance', 'absolute_magnitude', 'sentry_object']].head()"
   ]
  },
  {
   "cell_type": "markdown",
   "metadata": {
    "id": "mPcCXiQ1eMwN"
   },
   "source": [
    "3. Сделаем N запросов и оценим время"
   ]
  },
  {
   "cell_type": "code",
   "execution_count": 12,
   "metadata": {
    "id": "B8rN18B4qCJV"
   },
   "outputs": [],
   "source": [
    "N = 50"
   ]
  },
  {
   "cell_type": "code",
   "execution_count": 13,
   "metadata": {
    "colab": {
     "base_uri": "https://localhost:8080/"
    },
    "id": "UbD-kDI7j5G_",
    "outputId": "3330429c-c4a6-469d-d964-5a94e26d4232"
   },
   "outputs": [
    {
     "name": "stdout",
     "output_type": "stream",
     "text": [
      "Wall time: 1.17 s\n"
     ]
    }
   ],
   "source": [
    "%%time\n",
    "predictions = X_test[\n",
    "                     ['est_diameter_min', 'est_diameter_max', 'relative_velocity', 'miss_distance', 'absolute_magnitude', 'sentry_object']\n",
    "                     ].iloc[:N].apply(lambda x: send_json(x), axis=1)"
   ]
  },
  {
   "cell_type": "code",
   "execution_count": 14,
   "metadata": {
    "colab": {
     "base_uri": "https://localhost:8080/"
    },
    "id": "bMtyzhLNo5b7",
    "outputId": "369346f9-1178-460f-ad02-ea1fa64efff8"
   },
   "outputs": [
    {
     "data": {
      "text/plain": [
       "array([0.  , 0.  , 0.  , 0.03, 0.  , 0.47, 0.  , 0.  , 0.01, 0.15, 0.41,\n",
       "       0.03, 0.62, 0.  , 0.  , 0.  , 0.15, 0.02, 0.  , 0.59, 0.  , 0.  ,\n",
       "       0.18, 0.08, 0.25, 0.31, 0.97, 0.32, 0.04, 0.  , 0.  , 0.  , 0.  ,\n",
       "       0.  , 0.  , 0.  , 0.  , 0.51, 0.  , 0.  , 0.11, 0.  , 0.  , 0.19,\n",
       "       0.  , 0.02, 0.04, 0.  , 0.  , 0.02])"
      ]
     },
     "execution_count": 14,
     "metadata": {},
     "output_type": "execute_result"
    }
   ],
   "source": [
    "predictions.values[:50]"
   ]
  },
  {
   "cell_type": "markdown",
   "metadata": {
    "id": "5-Emg5b1eTia"
   },
   "source": [
    "4. Посчитаем метрику"
   ]
  },
  {
   "cell_type": "code",
   "execution_count": 15,
   "metadata": {
    "colab": {
     "base_uri": "https://localhost:8080/",
     "height": 206
    },
    "id": "qrbuoWWNpDU0",
    "outputId": "0004304d-b2fe-4d48-cef0-28df90d62255"
   },
   "outputs": [
    {
     "data": {
      "text/html": [
       "<div>\n",
       "<style scoped>\n",
       "    .dataframe tbody tr th:only-of-type {\n",
       "        vertical-align: middle;\n",
       "    }\n",
       "\n",
       "    .dataframe tbody tr th {\n",
       "        vertical-align: top;\n",
       "    }\n",
       "\n",
       "    .dataframe thead th {\n",
       "        text-align: right;\n",
       "    }\n",
       "</style>\n",
       "<table border=\"1\" class=\"dataframe\">\n",
       "  <thead>\n",
       "    <tr style=\"text-align: right;\">\n",
       "      <th></th>\n",
       "      <th>hazardous</th>\n",
       "    </tr>\n",
       "  </thead>\n",
       "  <tbody>\n",
       "    <tr>\n",
       "      <th>0</th>\n",
       "      <td>False</td>\n",
       "    </tr>\n",
       "    <tr>\n",
       "      <th>1</th>\n",
       "      <td>False</td>\n",
       "    </tr>\n",
       "    <tr>\n",
       "      <th>2</th>\n",
       "      <td>False</td>\n",
       "    </tr>\n",
       "    <tr>\n",
       "      <th>3</th>\n",
       "      <td>False</td>\n",
       "    </tr>\n",
       "    <tr>\n",
       "      <th>4</th>\n",
       "      <td>False</td>\n",
       "    </tr>\n",
       "  </tbody>\n",
       "</table>\n",
       "</div>"
      ],
      "text/plain": [
       "   hazardous\n",
       "0      False\n",
       "1      False\n",
       "2      False\n",
       "3      False\n",
       "4      False"
      ]
     },
     "execution_count": 15,
     "metadata": {},
     "output_type": "execute_result"
    }
   ],
   "source": [
    "y_test.head()"
   ]
  },
  {
   "cell_type": "code",
   "execution_count": 16,
   "metadata": {
    "colab": {
     "base_uri": "https://localhost:8080/"
    },
    "id": "PhGNR_vtNbg5",
    "outputId": "432f8d1d-c37b-4403-a76a-784ca36c7ea5"
   },
   "outputs": [
    {
     "name": "stdout",
     "output_type": "stream",
     "text": [
      "Best Threshold=0.41, F-Score=0.615, Precision=0.667, Recall=0.571\n"
     ]
    }
   ],
   "source": [
    "import numpy as np\n",
    "\n",
    "precision, recall, thresholds = precision_recall_curve(y_test[:N], predictions)\n",
    "\n",
    "fscore = (2 * precision * recall) / (precision + recall)\n",
    "# locate the index of the largest f score\n",
    "ix = np.argmax(fscore)\n",
    "print(f'Best Threshold={thresholds[ix]}, F-Score={fscore[ix]:.3f}, Precision={precision[ix]:.3f}, Recall={recall[ix]:.3f}')"
   ]
  },
  {
   "cell_type": "code",
   "execution_count": 17,
   "metadata": {
    "colab": {
     "base_uri": "https://localhost:8080/"
    },
    "id": "RNQmFOfXnAky",
    "outputId": "0f046f96-4c49-4642-e940-a18cd9e39241"
   },
   "outputs": [
    {
     "data": {
      "text/plain": [
       "0.9202657807308969"
      ]
     },
     "execution_count": 17,
     "metadata": {},
     "output_type": "execute_result"
    }
   ],
   "source": [
    "roc_auc_score(y_score=predictions.values, y_true=y_test.values[:N])"
   ]
  },
  {
   "cell_type": "code",
   "execution_count": null,
   "metadata": {},
   "outputs": [],
   "source": []
  }
 ],
 "metadata": {
  "colab": {
   "collapsed_sections": [],
   "name": "Lesson 9_request.ipynb",
   "provenance": []
  },
  "kernelspec": {
   "display_name": "Python 3",
   "language": "python",
   "name": "python3"
  },
  "language_info": {
   "codemirror_mode": {
    "name": "ipython",
    "version": 3
   },
   "file_extension": ".py",
   "mimetype": "text/x-python",
   "name": "python",
   "nbconvert_exporter": "python",
   "pygments_lexer": "ipython3",
   "version": "3.8.8"
  }
 },
 "nbformat": 4,
 "nbformat_minor": 1
}
