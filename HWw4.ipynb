{
 "cells": [
  {
   "cell_type": "markdown",
   "metadata": {},
   "source": [
    "### Практический пример с соревнования X5 \n",
    "\n",
    "http://retailhero.ai/#rec141268104"
   ]
  },
  {
   "cell_type": "markdown",
   "metadata": {},
   "source": [
    "Импортируем нужные библиотеки и предобработаем данные:"
   ]
  },
  {
   "cell_type": "code",
   "execution_count": 1,
   "metadata": {},
   "outputs": [],
   "source": [
    "# %matplotlib inline\n",
    "\n",
    "import pandas as pd; pd.set_option('display.max_columns', None)\n",
    "from sklearn.model_selection import train_test_split\n",
    "\n",
    "\n"
   ]
  },
  {
   "cell_type": "markdown",
   "metadata": {},
   "source": []
  },
  {
   "cell_type": "code",
   "execution_count": 2,
   "metadata": {},
   "outputs": [
    {
     "name": "stdout",
     "output_type": "stream",
     "text": [
      "Requirement already satisfied: scikit-uplift in c:\\users\\denva\\anaconda3\\lib\\site-packages (0.4.1)\n",
      "Requirement already satisfied: numpy>=1.16 in c:\\users\\denva\\anaconda3\\lib\\site-packages (from scikit-uplift) (1.22.3)\n",
      "Requirement already satisfied: pandas in c:\\users\\denva\\anaconda3\\lib\\site-packages (from scikit-uplift) (1.2.4)\n",
      "Requirement already satisfied: tqdm in c:\\users\\denva\\anaconda3\\lib\\site-packages (from scikit-uplift) (4.59.0)\n",
      "Requirement already satisfied: scikit-learn>=0.21.0 in c:\\users\\denva\\anaconda3\\lib\\site-packages (from scikit-uplift) (0.24.1)\n",
      "Requirement already satisfied: matplotlib in c:\\users\\denva\\anaconda3\\lib\\site-packages (from scikit-uplift) (3.3.4)\n",
      "Requirement already satisfied: requests in c:\\users\\denva\\anaconda3\\lib\\site-packages (from scikit-uplift) (2.25.1)\n",
      "Requirement already satisfied: joblib>=0.11 in c:\\users\\denva\\anaconda3\\lib\\site-packages (from scikit-learn>=0.21.0->scikit-uplift) (1.0.1)\n",
      "Requirement already satisfied: scipy>=0.19.1 in c:\\users\\denva\\anaconda3\\lib\\site-packages (from scikit-learn>=0.21.0->scikit-uplift) (1.6.2)\n",
      "Requirement already satisfied: threadpoolctl>=2.0.0 in c:\\users\\denva\\anaconda3\\lib\\site-packages (from scikit-learn>=0.21.0->scikit-uplift) (2.1.0)\n",
      "Requirement already satisfied: cycler>=0.10 in c:\\users\\denva\\anaconda3\\lib\\site-packages (from matplotlib->scikit-uplift) (0.10.0)\n",
      "Requirement already satisfied: pillow>=6.2.0 in c:\\users\\denva\\anaconda3\\lib\\site-packages (from matplotlib->scikit-uplift) (8.2.0)\n",
      "Requirement already satisfied: kiwisolver>=1.0.1 in c:\\users\\denva\\anaconda3\\lib\\site-packages (from matplotlib->scikit-uplift) (1.3.1)\n",
      "Requirement already satisfied: python-dateutil>=2.1 in c:\\users\\denva\\anaconda3\\lib\\site-packages (from matplotlib->scikit-uplift) (2.8.1)\n",
      "Requirement already satisfied: pyparsing!=2.0.4,!=2.1.2,!=2.1.6,>=2.0.3 in c:\\users\\denva\\anaconda3\\lib\\site-packages (from matplotlib->scikit-uplift) (2.4.7)\n",
      "Requirement already satisfied: six in c:\\users\\denva\\anaconda3\\lib\\site-packages (from cycler>=0.10->matplotlib->scikit-uplift) (1.15.0)\n",
      "Requirement already satisfied: pytz>=2017.3 in c:\\users\\denva\\anaconda3\\lib\\site-packages (from pandas->scikit-uplift) (2021.1)\n",
      "Requirement already satisfied: chardet<5,>=3.0.2 in c:\\users\\denva\\anaconda3\\lib\\site-packages (from requests->scikit-uplift) (4.0.0)\n",
      "Requirement already satisfied: urllib3<1.27,>=1.21.1 in c:\\users\\denva\\anaconda3\\lib\\site-packages (from requests->scikit-uplift) (1.26.4)\n",
      "Requirement already satisfied: certifi>=2017.4.17 in c:\\users\\denva\\anaconda3\\lib\\site-packages (from requests->scikit-uplift) (2020.12.5)\n",
      "Requirement already satisfied: idna<3,>=2.5 in c:\\users\\denva\\anaconda3\\lib\\site-packages (from requests->scikit-uplift) (2.10)\n",
      "Note: you may need to restart the kernel to use updated packages.\n"
     ]
    }
   ],
   "source": [
    "pip install scikit-uplift"
   ]
  },
  {
   "cell_type": "markdown",
   "metadata": {},
   "source": [
    "![ab_split](uplift4.png \"uplift4\")"
   ]
  },
  {
   "cell_type": "code",
   "execution_count": 3,
   "metadata": {},
   "outputs": [],
   "source": [
    "# Инструкция по установке пакета: https://github.com/maks-sh/scikit-uplift\n",
    "# Ссылка на документацию: https://scikit-uplift.readthedocs.io/en/latest/\n",
    "from sklift.metrics import uplift_at_k\n",
    "from sklift.viz import plot_uplift_preds\n",
    "from sklift.models import SoloModel\n",
    "from catboost import CatBoostClassifier\n"
   ]
  },
  {
   "cell_type": "code",
   "execution_count": 4,
   "metadata": {},
   "outputs": [
    {
     "data": {
      "text/html": [
       "<div>\n",
       "<style scoped>\n",
       "    .dataframe tbody tr th:only-of-type {\n",
       "        vertical-align: middle;\n",
       "    }\n",
       "\n",
       "    .dataframe tbody tr th {\n",
       "        vertical-align: top;\n",
       "    }\n",
       "\n",
       "    .dataframe thead th {\n",
       "        text-align: right;\n",
       "    }\n",
       "</style>\n",
       "<table border=\"1\" class=\"dataframe\">\n",
       "  <thead>\n",
       "    <tr style=\"text-align: right;\">\n",
       "      <th></th>\n",
       "      <th>recency</th>\n",
       "      <th>history</th>\n",
       "      <th>used_discount</th>\n",
       "      <th>used_bogo</th>\n",
       "      <th>zip_code</th>\n",
       "      <th>is_referral</th>\n",
       "      <th>channel</th>\n",
       "      <th>offer</th>\n",
       "      <th>conversion</th>\n",
       "    </tr>\n",
       "  </thead>\n",
       "  <tbody>\n",
       "    <tr>\n",
       "      <th>0</th>\n",
       "      <td>10</td>\n",
       "      <td>142.44</td>\n",
       "      <td>1</td>\n",
       "      <td>0</td>\n",
       "      <td>Surburban</td>\n",
       "      <td>0</td>\n",
       "      <td>Phone</td>\n",
       "      <td>Buy One Get One</td>\n",
       "      <td>0</td>\n",
       "    </tr>\n",
       "    <tr>\n",
       "      <th>1</th>\n",
       "      <td>6</td>\n",
       "      <td>329.08</td>\n",
       "      <td>1</td>\n",
       "      <td>1</td>\n",
       "      <td>Rural</td>\n",
       "      <td>1</td>\n",
       "      <td>Web</td>\n",
       "      <td>No Offer</td>\n",
       "      <td>0</td>\n",
       "    </tr>\n",
       "    <tr>\n",
       "      <th>2</th>\n",
       "      <td>7</td>\n",
       "      <td>180.65</td>\n",
       "      <td>0</td>\n",
       "      <td>1</td>\n",
       "      <td>Surburban</td>\n",
       "      <td>1</td>\n",
       "      <td>Web</td>\n",
       "      <td>Buy One Get One</td>\n",
       "      <td>0</td>\n",
       "    </tr>\n",
       "  </tbody>\n",
       "</table>\n",
       "</div>"
      ],
      "text/plain": [
       "   recency  history  used_discount  used_bogo   zip_code  is_referral channel  \\\n",
       "0       10   142.44              1          0  Surburban            0   Phone   \n",
       "1        6   329.08              1          1      Rural            1     Web   \n",
       "2        7   180.65              0          1  Surburban            1     Web   \n",
       "\n",
       "             offer  conversion  \n",
       "0  Buy One Get One           0  \n",
       "1         No Offer           0  \n",
       "2  Buy One Get One           0  "
      ]
     },
     "execution_count": 4,
     "metadata": {},
     "output_type": "execute_result"
    }
   ],
   "source": [
    "df_data = pd.read_csv('HW_data.csv')\n",
    "df_data.head(3)    "
   ]
  },
  {
   "cell_type": "code",
   "execution_count": 5,
   "metadata": {},
   "outputs": [
    {
     "name": "stdout",
     "output_type": "stream",
     "text": [
      "<class 'pandas.core.frame.DataFrame'>\n",
      "RangeIndex: 64000 entries, 0 to 63999\n",
      "Data columns (total 9 columns):\n",
      " #   Column         Non-Null Count  Dtype  \n",
      "---  ------         --------------  -----  \n",
      " 0   recency        64000 non-null  int64  \n",
      " 1   history        64000 non-null  float64\n",
      " 2   used_discount  64000 non-null  int64  \n",
      " 3   used_bogo      64000 non-null  int64  \n",
      " 4   zip_code       64000 non-null  object \n",
      " 5   is_referral    64000 non-null  int64  \n",
      " 6   channel        64000 non-null  object \n",
      " 7   offer          64000 non-null  object \n",
      " 8   conversion     64000 non-null  int64  \n",
      "dtypes: float64(1), int64(5), object(3)\n",
      "memory usage: 4.4+ MB\n"
     ]
    }
   ],
   "source": [
    "df_data.info()"
   ]
  },
  {
   "cell_type": "code",
   "execution_count": 6,
   "metadata": {},
   "outputs": [],
   "source": [
    "# Rename target column\n",
    "df_data = df_data.rename(columns={'conversion': 'target'})\n",
    "# Rename & Label encode treatment column\n",
    "df_data = df_data.rename(columns={'offer': 'treatment'})\n",
    "df_data.treatment = df_data.treatment.replace({'No Offer': 0, 'Buy One Get One': 1, 'Discount': 1})"
   ]
  },
  {
   "cell_type": "code",
   "execution_count": 7,
   "metadata": {},
   "outputs": [
    {
     "data": {
      "text/html": [
       "<div>\n",
       "<style scoped>\n",
       "    .dataframe tbody tr th:only-of-type {\n",
       "        vertical-align: middle;\n",
       "    }\n",
       "\n",
       "    .dataframe tbody tr th {\n",
       "        vertical-align: top;\n",
       "    }\n",
       "\n",
       "    .dataframe thead th {\n",
       "        text-align: right;\n",
       "    }\n",
       "</style>\n",
       "<table border=\"1\" class=\"dataframe\">\n",
       "  <thead>\n",
       "    <tr style=\"text-align: right;\">\n",
       "      <th></th>\n",
       "      <th>recency</th>\n",
       "      <th>history</th>\n",
       "      <th>used_discount</th>\n",
       "      <th>used_bogo</th>\n",
       "      <th>zip_code</th>\n",
       "      <th>is_referral</th>\n",
       "      <th>channel</th>\n",
       "      <th>treatment</th>\n",
       "      <th>target</th>\n",
       "    </tr>\n",
       "  </thead>\n",
       "  <tbody>\n",
       "    <tr>\n",
       "      <th>0</th>\n",
       "      <td>10</td>\n",
       "      <td>142.44</td>\n",
       "      <td>1</td>\n",
       "      <td>0</td>\n",
       "      <td>Surburban</td>\n",
       "      <td>0</td>\n",
       "      <td>Phone</td>\n",
       "      <td>1</td>\n",
       "      <td>0</td>\n",
       "    </tr>\n",
       "    <tr>\n",
       "      <th>1</th>\n",
       "      <td>6</td>\n",
       "      <td>329.08</td>\n",
       "      <td>1</td>\n",
       "      <td>1</td>\n",
       "      <td>Rural</td>\n",
       "      <td>1</td>\n",
       "      <td>Web</td>\n",
       "      <td>0</td>\n",
       "      <td>0</td>\n",
       "    </tr>\n",
       "    <tr>\n",
       "      <th>2</th>\n",
       "      <td>7</td>\n",
       "      <td>180.65</td>\n",
       "      <td>0</td>\n",
       "      <td>1</td>\n",
       "      <td>Surburban</td>\n",
       "      <td>1</td>\n",
       "      <td>Web</td>\n",
       "      <td>1</td>\n",
       "      <td>0</td>\n",
       "    </tr>\n",
       "    <tr>\n",
       "      <th>3</th>\n",
       "      <td>9</td>\n",
       "      <td>675.83</td>\n",
       "      <td>1</td>\n",
       "      <td>0</td>\n",
       "      <td>Rural</td>\n",
       "      <td>1</td>\n",
       "      <td>Web</td>\n",
       "      <td>1</td>\n",
       "      <td>0</td>\n",
       "    </tr>\n",
       "    <tr>\n",
       "      <th>4</th>\n",
       "      <td>2</td>\n",
       "      <td>45.34</td>\n",
       "      <td>1</td>\n",
       "      <td>0</td>\n",
       "      <td>Urban</td>\n",
       "      <td>0</td>\n",
       "      <td>Web</td>\n",
       "      <td>1</td>\n",
       "      <td>0</td>\n",
       "    </tr>\n",
       "    <tr>\n",
       "      <th>5</th>\n",
       "      <td>6</td>\n",
       "      <td>134.83</td>\n",
       "      <td>0</td>\n",
       "      <td>1</td>\n",
       "      <td>Surburban</td>\n",
       "      <td>0</td>\n",
       "      <td>Phone</td>\n",
       "      <td>1</td>\n",
       "      <td>1</td>\n",
       "    </tr>\n",
       "  </tbody>\n",
       "</table>\n",
       "</div>"
      ],
      "text/plain": [
       "   recency  history  used_discount  used_bogo   zip_code  is_referral channel  \\\n",
       "0       10   142.44              1          0  Surburban            0   Phone   \n",
       "1        6   329.08              1          1      Rural            1     Web   \n",
       "2        7   180.65              0          1  Surburban            1     Web   \n",
       "3        9   675.83              1          0      Rural            1     Web   \n",
       "4        2    45.34              1          0      Urban            0     Web   \n",
       "5        6   134.83              0          1  Surburban            0   Phone   \n",
       "\n",
       "   treatment  target  \n",
       "0          1       0  \n",
       "1          0       0  \n",
       "2          1       0  \n",
       "3          1       0  \n",
       "4          1       0  \n",
       "5          1       1  "
      ]
     },
     "execution_count": 7,
     "metadata": {},
     "output_type": "execute_result"
    }
   ],
   "source": [
    "df_data.head(6)"
   ]
  },
  {
   "cell_type": "code",
   "execution_count": null,
   "metadata": {},
   "outputs": [],
   "source": []
  },
  {
   "cell_type": "code",
   "execution_count": 8,
   "metadata": {},
   "outputs": [],
   "source": [
    "X_train, X_test, y_train, y_test  = train_test_split(df_data.drop(columns='target'),\n",
    "                                                     df_data['target'],\n",
    "                                                     test_size=0.3,\n",
    "                                                     random_state=42,\n",
    "                                                     stratify=df_data['treatment'])\n"
   ]
  },
  {
   "cell_type": "code",
   "execution_count": 9,
   "metadata": {},
   "outputs": [],
   "source": [
    "treat_train = X_train['treatment']\n",
    "X_train.drop(columns=['treatment'], inplace = True)\n",
    "treat_val = X_test['treatment']\n",
    "X_test.drop(columns=['treatment'], inplace = True)"
   ]
  },
  {
   "cell_type": "code",
   "execution_count": 11,
   "metadata": {},
   "outputs": [],
   "source": [
    "cat_features = ['zip_code', 'channel']"
   ]
  },
  {
   "cell_type": "code",
   "execution_count": 12,
   "metadata": {},
   "outputs": [],
   "source": [
    " models_results = {\n",
    "     'approach': [],\n",
    "     'uplift@10%': [],\n",
    "     'uplift@20%': []\n",
    " }"
   ]
  },
  {
   "cell_type": "markdown",
   "metadata": {},
   "source": [
    "#### 1. Подходы с одной моделью"
   ]
  },
  {
   "cell_type": "code",
   "execution_count": 14,
   "metadata": {},
   "outputs": [
    {
     "data": {
      "image/png": "[encoded data removed]",
      "text/plain": [
       "<Figure size 1440x504 with 3 Axes>"
      ]
     },
     "metadata": {
      "needs_background": "light"
     },
     "output_type": "display_data"
    }
   ],
   "source": [
    "from sklift.metrics import uplift_at_k\n",
    "from sklift.viz import plot_uplift_preds\n",
    "from sklift.models import SoloModel\n",
    "from catboost import CatBoostClassifier\n",
    "\n",
    "\n",
    "sm = SoloModel(CatBoostClassifier(iterations=20, thread_count=42, random_state=42, silent=True))\n",
    "sm = sm.fit(X_train, y_train, treat_train, estimator_fit_params={'cat_features': cat_features})\n",
    "\n",
    "uplift_sm = sm.predict(X_test)\n",
    "\n",
    "sm_score_10 = uplift_at_k(y_true=y_test, uplift=uplift_sm, treatment=treat_val, strategy='by_group', k=0.1)\n",
    "sm_score_20 = uplift_at_k(y_true=y_test, uplift=uplift_sm, treatment=treat_val, strategy='by_group', k=0.2)\n",
    "\n",
    "models_results['approach'].append('SoloModel')\n",
    "models_results['uplift@10%'].append(sm_score_10)\n",
    "models_results['uplift@20%'].append(sm_score_20)\n",
    "\n",
    "# Получим условные вероятности выполнения целевого действия при взаимодействии для каждого объекта\n",
    "sm_trmnt_preds = sm.trmnt_preds_\n",
    "# И условные вероятности выполнения целевого действия без взаимодействия для каждого объекта\n",
    "sm_ctrl_preds = sm.ctrl_preds_\n",
    "\n",
    "# Отрисуем распределения вероятностей и их разность (uplift)\n",
    "plot_uplift_preds(trmnt_preds=sm_trmnt_preds, ctrl_preds=sm_ctrl_preds);"
   ]
  },
  {
   "cell_type": "code",
   "execution_count": null,
   "metadata": {},
   "outputs": [],
   "source": [
    "#ClassTransformation"
   ]
  },
  {
   "cell_type": "code",
   "execution_count": 15,
   "metadata": {},
   "outputs": [],
   "source": [
    "from sklift.models import ClassTransformation\n",
    "\n",
    "\n",
    "ct = ClassTransformation(CatBoostClassifier(iterations=20, thread_count=42, random_state=42, silent=True))\n",
    "ct = ct.fit(X_train, y_train, treat_train, estimator_fit_params={'cat_features': cat_features})\n",
    "\n",
    "uplift_ct = ct.predict(X_test)\n",
    "\n",
    "ct_score_10 = uplift_at_k(y_true=y_test, uplift=uplift_ct, treatment=treat_val, strategy='by_group', k=0.1)\n",
    "ct_score_20 = uplift_at_k(y_true=y_test, uplift=uplift_ct, treatment=treat_val, strategy='by_group', k=0.2)\n",
    "\n",
    "models_results['approach'].append('ClassTransformation')\n",
    "models_results['uplift@10%'].append(ct_score_10)\n",
    "models_results['uplift@20%'].append(ct_score_20)"
   ]
  },
  {
   "cell_type": "code",
   "execution_count": null,
   "metadata": {},
   "outputs": [],
   "source": [
    "#TwoModels"
   ]
  },
  {
   "cell_type": "code",
   "execution_count": 16,
   "metadata": {},
   "outputs": [
    {
     "data": {
      "image/png": "[encoded data removed]",
      "text/plain": [
       "<Figure size 1440x504 with 3 Axes>"
      ]
     },
     "metadata": {
      "needs_background": "light"
     },
     "output_type": "display_data"
    }
   ],
   "source": [
    "from sklift.models import TwoModels\n",
    "\n",
    "\n",
    "tm = TwoModels(\n",
    "    estimator_trmnt=CatBoostClassifier(iterations=20, thread_count=2, random_state=42, silent=True), \n",
    "    estimator_ctrl=CatBoostClassifier(iterations=20, thread_count=2, random_state=42, silent=True), \n",
    "    method='vanilla'\n",
    ")\n",
    "tm = tm.fit(\n",
    "    X_train, y_train, treat_train,\n",
    "    estimator_trmnt_fit_params={'cat_features': cat_features}, \n",
    "    estimator_ctrl_fit_params={'cat_features': cat_features}\n",
    ")\n",
    "\n",
    "uplift_tm = tm.predict(X_test)\n",
    "\n",
    "tm_score_10 = uplift_at_k(y_true=y_test, uplift=uplift_tm, treatment=treat_val, strategy='by_group', k=0.1)\n",
    "tm_score_20 = uplift_at_k(y_true=y_test, uplift=uplift_tm, treatment=treat_val, strategy='by_group', k=0.2)\n",
    "\n",
    "models_results['approach'].append('TwoModels')\n",
    "models_results['uplift@10%'].append(tm_score_10)\n",
    "models_results['uplift@20%'].append(tm_score_20)\n",
    "\n",
    "plot_uplift_preds(trmnt_preds=tm.trmnt_preds_, ctrl_preds=tm.ctrl_preds_);"
   ]
  },
  {
   "cell_type": "code",
   "execution_count": 17,
   "metadata": {},
   "outputs": [
    {
     "data": {
      "text/plain": [
       "{'approach': ['SoloModel', 'ClassTransformation', 'TwoModels'],\n",
       " 'uplift@10%': [0.07942830594679184, 0.08955276799687009, 0.07473102503912366],\n",
       " 'uplift@20%': [0.07153834543553567, 0.07504190399021313, 0.07272809489153237]}"
      ]
     },
     "execution_count": 17,
     "metadata": {},
     "output_type": "execute_result"
    }
   ],
   "source": [
    "models_results"
   ]
  },
  {
   "cell_type": "markdown",
   "metadata": {},
   "source": [
    "Посмотрим на топ-признаки"
   ]
  },
  {
   "cell_type": "code",
   "execution_count": 20,
   "metadata": {},
   "outputs": [
    {
     "data": {
      "text/html": [
       "<div>\n",
       "<style scoped>\n",
       "    .dataframe tbody tr th:only-of-type {\n",
       "        vertical-align: middle;\n",
       "    }\n",
       "\n",
       "    .dataframe tbody tr th {\n",
       "        vertical-align: top;\n",
       "    }\n",
       "\n",
       "    .dataframe thead th {\n",
       "        text-align: right;\n",
       "    }\n",
       "</style>\n",
       "<table border=\"1\" class=\"dataframe\">\n",
       "  <thead>\n",
       "    <tr style=\"text-align: right;\">\n",
       "      <th></th>\n",
       "      <th>feature_name</th>\n",
       "      <th>feature_score</th>\n",
       "    </tr>\n",
       "  </thead>\n",
       "  <tbody>\n",
       "    <tr>\n",
       "      <th>0</th>\n",
       "      <td>is_referral</td>\n",
       "      <td>20.964487</td>\n",
       "    </tr>\n",
       "    <tr>\n",
       "      <th>1</th>\n",
       "      <td>treatment</td>\n",
       "      <td>17.436243</td>\n",
       "    </tr>\n",
       "    <tr>\n",
       "      <th>2</th>\n",
       "      <td>used_bogo</td>\n",
       "      <td>12.831646</td>\n",
       "    </tr>\n",
       "    <tr>\n",
       "      <th>3</th>\n",
       "      <td>recency</td>\n",
       "      <td>12.183751</td>\n",
       "    </tr>\n",
       "    <tr>\n",
       "      <th>4</th>\n",
       "      <td>zip_code</td>\n",
       "      <td>11.393527</td>\n",
       "    </tr>\n",
       "    <tr>\n",
       "      <th>5</th>\n",
       "      <td>used_discount</td>\n",
       "      <td>9.974648</td>\n",
       "    </tr>\n",
       "    <tr>\n",
       "      <th>6</th>\n",
       "      <td>history</td>\n",
       "      <td>8.301870</td>\n",
       "    </tr>\n",
       "    <tr>\n",
       "      <th>7</th>\n",
       "      <td>channel</td>\n",
       "      <td>6.913829</td>\n",
       "    </tr>\n",
       "  </tbody>\n",
       "</table>\n",
       "</div>"
      ],
      "text/plain": [
       "    feature_name  feature_score\n",
       "0    is_referral      20.964487\n",
       "1      treatment      17.436243\n",
       "2      used_bogo      12.831646\n",
       "3        recency      12.183751\n",
       "4       zip_code      11.393527\n",
       "5  used_discount       9.974648\n",
       "6        history       8.301870\n",
       "7        channel       6.913829"
      ]
     },
     "execution_count": 20,
     "metadata": {},
     "output_type": "execute_result"
    }
   ],
   "source": [
    "# С той же легкостью можно обратиться к обученной модели.\n",
    "# Например, чтобы построить важность признаков:\n",
    "sm_fi = pd.DataFrame({\n",
    "    'feature_name': sm.estimator.feature_names_,\n",
    "    'feature_score': sm.estimator.feature_importances_\n",
    "}).sort_values('feature_score', ascending=False).reset_index(drop=True)\n",
    "\n",
    "sm_fi"
   ]
  },
  {
   "cell_type": "code",
   "execution_count": null,
   "metadata": {},
   "outputs": [],
   "source": []
  }
 ],
 "metadata": {
  "kernelspec": {
   "display_name": "Python 3",
   "language": "python",
   "name": "python3"
  },
  "language_info": {
   "codemirror_mode": {
    "name": "ipython",
    "version": 3
   },
   "file_extension": ".py",
   "mimetype": "text/x-python",
   "name": "python",
   "nbconvert_exporter": "python",
   "pygments_lexer": "ipython3",
   "version": "3.8.8"
  }
 },
 "nbformat": 4,
 "nbformat_minor": 2
}
